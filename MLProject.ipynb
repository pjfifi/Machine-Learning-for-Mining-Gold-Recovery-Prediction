{
 "cells": [
  {
   "cell_type": "markdown",
   "metadata": {},
   "source": [
    "# Predicting Gold Recovery from Ore Using Machine Learning"
   ]
  },
  {
   "cell_type": "markdown",
   "metadata": {},
   "source": [
    "This project was developed for a company specializing in efficiency solutions for the heavy industry. The objective was to build a machine learning model that predicts the amount of gold recovered from ore during various stages of the extraction and purification process. Using industrial datasets containing mineral concentrations (gold, silver, lead), process parameters, and timestamps, the project involved end-to-end data analysis and model development.\n",
    "\n",
    "Key steps included extensive preprocessing (handling missing values, forward-filling time series data, and removing anomalies), exploratory data analysis to understand how mineral concentrations change through purification, and comparison of feed particle size distributions between training and test sets. Multiple regression models were evaluated—including Linear Regression, Random Forest, Gradient Boosting, and XGBoost—with Gradient Boosting achieving the best performance (sMAPE = 11.39).\n",
    "\n",
    "The project was motivated by the need to enhance operational decision-making in gold mining, where accurate prediction of recovery rates can significantly reduce waste and improve profitability. It solves the problem of unpredictability in ore yield by offering a data-driven predictive framework. Through this project, I gained experience in handling real-world industrial data, applying domain-relevant metrics (like sMAPE), and optimizing models for performance and interpretability.\n"
   ]
  },
  {
   "cell_type": "markdown",
   "metadata": {},
   "source": [
    "### Prepare the data"
   ]
  },
  {
   "cell_type": "code",
   "execution_count": null,
   "metadata": {
    "trusted": true
   },
   "outputs": [],
   "source": [
    "# Loading packages\n",
    "\n",
    "import pandas as pd\n",
    "import matplotlib.pyplot as plt\n",
    "import seaborn as sns\n",
    "import numpy as np\n",
    "from scipy.stats import randint, uniform\n",
    "\n",
    "from sklearn.model_selection import cross_val_score, train_test_split,RandomizedSearchCV\n",
    "from sklearn.ensemble import RandomForestRegressor, GradientBoostingRegressor\n",
    "from sklearn.linear_model import LinearRegression\n",
    "from xgboost import XGBRegressor\n",
    "\n",
    "from sklearn.metrics import make_scorer\n",
    "from sklearn.metrics import mean_absolute_error\n"
   ]
  },
  {
   "cell_type": "markdown",
   "metadata": {},
   "source": [
    "#### Loading data"
   ]
  },
  {
   "cell_type": "code",
   "execution_count": null,
   "metadata": {
    "trusted": true
   },
   "outputs": [],
   "source": [
    "#Loading Data\n",
    "\n",
    "# online data\n",
    "# train = pd.read_csv('/datasets/gold_recovery_train.csv',index_col='date')\n",
    "# test = pd.read_csv('/datasets/gold_recovery_test.csv',index_col='date')\n",
    "# full= pd.read_csv('/datasets/gold_recovery_full.csv',index_col='date')\n",
    "\n",
    "#Local data\n",
    "train = pd.read_csv('gold_recovery_train.csv',index_col='date')\n",
    "test = pd.read_csv('gold_recovery_test.csv',index_col='date')\n",
    "full= pd.read_csv('gold_recovery_full.csv',index_col='date')"
   ]
  },
  {
   "cell_type": "markdown",
   "metadata": {},
   "source": [
    "#### Understanding Data"
   ]
  },
  {
   "cell_type": "code",
   "execution_count": null,
   "metadata": {
    "trusted": true
   },
   "outputs": [
    {
     "name": "stdout",
     "output_type": "stream",
     "text": [
      "<class 'pandas.core.frame.DataFrame'>\n",
      "Index: 16860 entries, 2016-01-15 00:00:00 to 2018-08-18 10:59:59\n",
      "Data columns (total 86 columns):\n",
      " #   Column                                              Non-Null Count  Dtype  \n",
      "---  ------                                              --------------  -----  \n",
      " 0   final.output.concentrate_ag                         16788 non-null  float64\n",
      " 1   final.output.concentrate_pb                         16788 non-null  float64\n",
      " 2   final.output.concentrate_sol                        16490 non-null  float64\n",
      " 3   final.output.concentrate_au                         16789 non-null  float64\n",
      " 4   final.output.recovery                               15339 non-null  float64\n",
      " 5   final.output.tail_ag                                16794 non-null  float64\n",
      " 6   final.output.tail_pb                                16677 non-null  float64\n",
      " 7   final.output.tail_sol                               16715 non-null  float64\n",
      " 8   final.output.tail_au                                16794 non-null  float64\n",
      " 9   primary_cleaner.input.sulfate                       15553 non-null  float64\n",
      " 10  primary_cleaner.input.depressant                    15598 non-null  float64\n",
      " 11  primary_cleaner.input.feed_size                     16860 non-null  float64\n",
      " 12  primary_cleaner.input.xanthate                      15875 non-null  float64\n",
      " 13  primary_cleaner.output.concentrate_ag               16778 non-null  float64\n",
      " 14  primary_cleaner.output.concentrate_pb               16502 non-null  float64\n",
      " 15  primary_cleaner.output.concentrate_sol              16224 non-null  float64\n",
      " 16  primary_cleaner.output.concentrate_au               16778 non-null  float64\n",
      " 17  primary_cleaner.output.tail_ag                      16777 non-null  float64\n",
      " 18  primary_cleaner.output.tail_pb                      16761 non-null  float64\n",
      " 19  primary_cleaner.output.tail_sol                     16579 non-null  float64\n",
      " 20  primary_cleaner.output.tail_au                      16777 non-null  float64\n",
      " 21  primary_cleaner.state.floatbank8_a_air              16820 non-null  float64\n",
      " 22  primary_cleaner.state.floatbank8_a_level            16827 non-null  float64\n",
      " 23  primary_cleaner.state.floatbank8_b_air              16820 non-null  float64\n",
      " 24  primary_cleaner.state.floatbank8_b_level            16833 non-null  float64\n",
      " 25  primary_cleaner.state.floatbank8_c_air              16822 non-null  float64\n",
      " 26  primary_cleaner.state.floatbank8_c_level            16833 non-null  float64\n",
      " 27  primary_cleaner.state.floatbank8_d_air              16821 non-null  float64\n",
      " 28  primary_cleaner.state.floatbank8_d_level            16833 non-null  float64\n",
      " 29  rougher.calculation.sulfate_to_au_concentrate       16833 non-null  float64\n",
      " 30  rougher.calculation.floatbank10_sulfate_to_au_feed  16833 non-null  float64\n",
      " 31  rougher.calculation.floatbank11_sulfate_to_au_feed  16833 non-null  float64\n",
      " 32  rougher.calculation.au_pb_ratio                     15618 non-null  float64\n",
      " 33  rougher.input.feed_ag                               16778 non-null  float64\n",
      " 34  rougher.input.feed_pb                               16632 non-null  float64\n",
      " 35  rougher.input.feed_rate                             16347 non-null  float64\n",
      " 36  rougher.input.feed_size                             16443 non-null  float64\n",
      " 37  rougher.input.feed_sol                              16568 non-null  float64\n",
      " 38  rougher.input.feed_au                               16777 non-null  float64\n",
      " 39  rougher.input.floatbank10_sulfate                   15816 non-null  float64\n",
      " 40  rougher.input.floatbank10_xanthate                  16514 non-null  float64\n",
      " 41  rougher.input.floatbank11_sulfate                   16237 non-null  float64\n",
      " 42  rougher.input.floatbank11_xanthate                  14956 non-null  float64\n",
      " 43  rougher.output.concentrate_ag                       16778 non-null  float64\n",
      " 44  rougher.output.concentrate_pb                       16778 non-null  float64\n",
      " 45  rougher.output.concentrate_sol                      16698 non-null  float64\n",
      " 46  rougher.output.concentrate_au                       16778 non-null  float64\n",
      " 47  rougher.output.recovery                             14287 non-null  float64\n",
      " 48  rougher.output.tail_ag                              14610 non-null  float64\n",
      " 49  rougher.output.tail_pb                              16778 non-null  float64\n",
      " 50  rougher.output.tail_sol                             14611 non-null  float64\n",
      " 51  rougher.output.tail_au                              14611 non-null  float64\n",
      " 52  rougher.state.floatbank10_a_air                     16807 non-null  float64\n",
      " 53  rougher.state.floatbank10_a_level                   16807 non-null  float64\n",
      " 54  rougher.state.floatbank10_b_air                     16807 non-null  float64\n",
      " 55  rougher.state.floatbank10_b_level                   16807 non-null  float64\n",
      " 56  rougher.state.floatbank10_c_air                     16807 non-null  float64\n",
      " 57  rougher.state.floatbank10_c_level                   16814 non-null  float64\n",
      " 58  rougher.state.floatbank10_d_air                     16802 non-null  float64\n",
      " 59  rougher.state.floatbank10_d_level                   16809 non-null  float64\n",
      " 60  rougher.state.floatbank10_e_air                     16257 non-null  float64\n",
      " 61  rougher.state.floatbank10_e_level                   16809 non-null  float64\n",
      " 62  rougher.state.floatbank10_f_air                     16802 non-null  float64\n",
      " 63  rougher.state.floatbank10_f_level                   16802 non-null  float64\n",
      " 64  secondary_cleaner.output.tail_ag                    16776 non-null  float64\n",
      " 65  secondary_cleaner.output.tail_pb                    16764 non-null  float64\n",
      " 66  secondary_cleaner.output.tail_sol                   14874 non-null  float64\n",
      " 67  secondary_cleaner.output.tail_au                    16778 non-null  float64\n",
      " 68  secondary_cleaner.state.floatbank2_a_air            16497 non-null  float64\n",
      " 69  secondary_cleaner.state.floatbank2_a_level          16751 non-null  float64\n",
      " 70  secondary_cleaner.state.floatbank2_b_air            16705 non-null  float64\n",
      " 71  secondary_cleaner.state.floatbank2_b_level          16748 non-null  float64\n",
      " 72  secondary_cleaner.state.floatbank3_a_air            16763 non-null  float64\n",
      " 73  secondary_cleaner.state.floatbank3_a_level          16747 non-null  float64\n",
      " 74  secondary_cleaner.state.floatbank3_b_air            16752 non-null  float64\n",
      " 75  secondary_cleaner.state.floatbank3_b_level          16750 non-null  float64\n",
      " 76  secondary_cleaner.state.floatbank4_a_air            16731 non-null  float64\n",
      " 77  secondary_cleaner.state.floatbank4_a_level          16747 non-null  float64\n",
      " 78  secondary_cleaner.state.floatbank4_b_air            16768 non-null  float64\n",
      " 79  secondary_cleaner.state.floatbank4_b_level          16767 non-null  float64\n",
      " 80  secondary_cleaner.state.floatbank5_a_air            16775 non-null  float64\n",
      " 81  secondary_cleaner.state.floatbank5_a_level          16775 non-null  float64\n",
      " 82  secondary_cleaner.state.floatbank5_b_air            16775 non-null  float64\n",
      " 83  secondary_cleaner.state.floatbank5_b_level          16776 non-null  float64\n",
      " 84  secondary_cleaner.state.floatbank6_a_air            16757 non-null  float64\n",
      " 85  secondary_cleaner.state.floatbank6_a_level          16775 non-null  float64\n",
      "dtypes: float64(86)\n",
      "memory usage: 11.2+ MB\n"
     ]
    },
    {
     "data": {
      "text/plain": [
       "None"
      ]
     },
     "metadata": {},
     "output_type": "display_data"
    },
    {
     "name": "stdout",
     "output_type": "stream",
     "text": [
      "<class 'pandas.core.frame.DataFrame'>\n",
      "Index: 5856 entries, 2016-09-01 00:59:59 to 2017-12-31 23:59:59\n",
      "Data columns (total 52 columns):\n",
      " #   Column                                      Non-Null Count  Dtype  \n",
      "---  ------                                      --------------  -----  \n",
      " 0   primary_cleaner.input.sulfate               5554 non-null   float64\n",
      " 1   primary_cleaner.input.depressant            5572 non-null   float64\n",
      " 2   primary_cleaner.input.feed_size             5856 non-null   float64\n",
      " 3   primary_cleaner.input.xanthate              5690 non-null   float64\n",
      " 4   primary_cleaner.state.floatbank8_a_air      5840 non-null   float64\n",
      " 5   primary_cleaner.state.floatbank8_a_level    5840 non-null   float64\n",
      " 6   primary_cleaner.state.floatbank8_b_air      5840 non-null   float64\n",
      " 7   primary_cleaner.state.floatbank8_b_level    5840 non-null   float64\n",
      " 8   primary_cleaner.state.floatbank8_c_air      5840 non-null   float64\n",
      " 9   primary_cleaner.state.floatbank8_c_level    5840 non-null   float64\n",
      " 10  primary_cleaner.state.floatbank8_d_air      5840 non-null   float64\n",
      " 11  primary_cleaner.state.floatbank8_d_level    5840 non-null   float64\n",
      " 12  rougher.input.feed_ag                       5840 non-null   float64\n",
      " 13  rougher.input.feed_pb                       5840 non-null   float64\n",
      " 14  rougher.input.feed_rate                     5816 non-null   float64\n",
      " 15  rougher.input.feed_size                     5834 non-null   float64\n",
      " 16  rougher.input.feed_sol                      5789 non-null   float64\n",
      " 17  rougher.input.feed_au                       5840 non-null   float64\n",
      " 18  rougher.input.floatbank10_sulfate           5599 non-null   float64\n",
      " 19  rougher.input.floatbank10_xanthate          5733 non-null   float64\n",
      " 20  rougher.input.floatbank11_sulfate           5801 non-null   float64\n",
      " 21  rougher.input.floatbank11_xanthate          5503 non-null   float64\n",
      " 22  rougher.state.floatbank10_a_air             5839 non-null   float64\n",
      " 23  rougher.state.floatbank10_a_level           5840 non-null   float64\n",
      " 24  rougher.state.floatbank10_b_air             5839 non-null   float64\n",
      " 25  rougher.state.floatbank10_b_level           5840 non-null   float64\n",
      " 26  rougher.state.floatbank10_c_air             5839 non-null   float64\n",
      " 27  rougher.state.floatbank10_c_level           5840 non-null   float64\n",
      " 28  rougher.state.floatbank10_d_air             5839 non-null   float64\n",
      " 29  rougher.state.floatbank10_d_level           5840 non-null   float64\n",
      " 30  rougher.state.floatbank10_e_air             5839 non-null   float64\n",
      " 31  rougher.state.floatbank10_e_level           5840 non-null   float64\n",
      " 32  rougher.state.floatbank10_f_air             5839 non-null   float64\n",
      " 33  rougher.state.floatbank10_f_level           5840 non-null   float64\n",
      " 34  secondary_cleaner.state.floatbank2_a_air    5836 non-null   float64\n",
      " 35  secondary_cleaner.state.floatbank2_a_level  5840 non-null   float64\n",
      " 36  secondary_cleaner.state.floatbank2_b_air    5833 non-null   float64\n",
      " 37  secondary_cleaner.state.floatbank2_b_level  5840 non-null   float64\n",
      " 38  secondary_cleaner.state.floatbank3_a_air    5822 non-null   float64\n",
      " 39  secondary_cleaner.state.floatbank3_a_level  5840 non-null   float64\n",
      " 40  secondary_cleaner.state.floatbank3_b_air    5840 non-null   float64\n",
      " 41  secondary_cleaner.state.floatbank3_b_level  5840 non-null   float64\n",
      " 42  secondary_cleaner.state.floatbank4_a_air    5840 non-null   float64\n",
      " 43  secondary_cleaner.state.floatbank4_a_level  5840 non-null   float64\n",
      " 44  secondary_cleaner.state.floatbank4_b_air    5840 non-null   float64\n",
      " 45  secondary_cleaner.state.floatbank4_b_level  5840 non-null   float64\n",
      " 46  secondary_cleaner.state.floatbank5_a_air    5840 non-null   float64\n",
      " 47  secondary_cleaner.state.floatbank5_a_level  5840 non-null   float64\n",
      " 48  secondary_cleaner.state.floatbank5_b_air    5840 non-null   float64\n",
      " 49  secondary_cleaner.state.floatbank5_b_level  5840 non-null   float64\n",
      " 50  secondary_cleaner.state.floatbank6_a_air    5840 non-null   float64\n",
      " 51  secondary_cleaner.state.floatbank6_a_level  5840 non-null   float64\n",
      "dtypes: float64(52)\n",
      "memory usage: 2.4+ MB\n"
     ]
    },
    {
     "data": {
      "text/plain": [
       "None"
      ]
     },
     "metadata": {},
     "output_type": "display_data"
    },
    {
     "name": "stdout",
     "output_type": "stream",
     "text": [
      "<class 'pandas.core.frame.DataFrame'>\n",
      "Index: 22716 entries, 2016-01-15 00:00:00 to 2018-08-18 10:59:59\n",
      "Data columns (total 86 columns):\n",
      " #   Column                                              Non-Null Count  Dtype  \n",
      "---  ------                                              --------------  -----  \n",
      " 0   final.output.concentrate_ag                         22627 non-null  float64\n",
      " 1   final.output.concentrate_pb                         22629 non-null  float64\n",
      " 2   final.output.concentrate_sol                        22331 non-null  float64\n",
      " 3   final.output.concentrate_au                         22630 non-null  float64\n",
      " 4   final.output.recovery                               20753 non-null  float64\n",
      " 5   final.output.tail_ag                                22633 non-null  float64\n",
      " 6   final.output.tail_pb                                22516 non-null  float64\n",
      " 7   final.output.tail_sol                               22445 non-null  float64\n",
      " 8   final.output.tail_au                                22635 non-null  float64\n",
      " 9   primary_cleaner.input.sulfate                       21107 non-null  float64\n",
      " 10  primary_cleaner.input.depressant                    21170 non-null  float64\n",
      " 11  primary_cleaner.input.feed_size                     22716 non-null  float64\n",
      " 12  primary_cleaner.input.xanthate                      21565 non-null  float64\n",
      " 13  primary_cleaner.output.concentrate_ag               22618 non-null  float64\n",
      " 14  primary_cleaner.output.concentrate_pb               22268 non-null  float64\n",
      " 15  primary_cleaner.output.concentrate_sol              21918 non-null  float64\n",
      " 16  primary_cleaner.output.concentrate_au               22618 non-null  float64\n",
      " 17  primary_cleaner.output.tail_ag                      22614 non-null  float64\n",
      " 18  primary_cleaner.output.tail_pb                      22594 non-null  float64\n",
      " 19  primary_cleaner.output.tail_sol                     22365 non-null  float64\n",
      " 20  primary_cleaner.output.tail_au                      22617 non-null  float64\n",
      " 21  primary_cleaner.state.floatbank8_a_air              22660 non-null  float64\n",
      " 22  primary_cleaner.state.floatbank8_a_level            22667 non-null  float64\n",
      " 23  primary_cleaner.state.floatbank8_b_air              22660 non-null  float64\n",
      " 24  primary_cleaner.state.floatbank8_b_level            22673 non-null  float64\n",
      " 25  primary_cleaner.state.floatbank8_c_air              22662 non-null  float64\n",
      " 26  primary_cleaner.state.floatbank8_c_level            22673 non-null  float64\n",
      " 27  primary_cleaner.state.floatbank8_d_air              22661 non-null  float64\n",
      " 28  primary_cleaner.state.floatbank8_d_level            22673 non-null  float64\n",
      " 29  rougher.calculation.sulfate_to_au_concentrate       22672 non-null  float64\n",
      " 30  rougher.calculation.floatbank10_sulfate_to_au_feed  22672 non-null  float64\n",
      " 31  rougher.calculation.floatbank11_sulfate_to_au_feed  22672 non-null  float64\n",
      " 32  rougher.calculation.au_pb_ratio                     21089 non-null  float64\n",
      " 33  rougher.input.feed_ag                               22618 non-null  float64\n",
      " 34  rougher.input.feed_pb                               22472 non-null  float64\n",
      " 35  rougher.input.feed_rate                             22163 non-null  float64\n",
      " 36  rougher.input.feed_size                             22277 non-null  float64\n",
      " 37  rougher.input.feed_sol                              22357 non-null  float64\n",
      " 38  rougher.input.feed_au                               22617 non-null  float64\n",
      " 39  rougher.input.floatbank10_sulfate                   21415 non-null  float64\n",
      " 40  rougher.input.floatbank10_xanthate                  22247 non-null  float64\n",
      " 41  rougher.input.floatbank11_sulfate                   22038 non-null  float64\n",
      " 42  rougher.input.floatbank11_xanthate                  20459 non-null  float64\n",
      " 43  rougher.output.concentrate_ag                       22618 non-null  float64\n",
      " 44  rougher.output.concentrate_pb                       22618 non-null  float64\n",
      " 45  rougher.output.concentrate_sol                      22526 non-null  float64\n",
      " 46  rougher.output.concentrate_au                       22618 non-null  float64\n",
      " 47  rougher.output.recovery                             19597 non-null  float64\n",
      " 48  rougher.output.tail_ag                              19979 non-null  float64\n",
      " 49  rougher.output.tail_pb                              22618 non-null  float64\n",
      " 50  rougher.output.tail_sol                             19980 non-null  float64\n",
      " 51  rougher.output.tail_au                              19980 non-null  float64\n",
      " 52  rougher.state.floatbank10_a_air                     22646 non-null  float64\n",
      " 53  rougher.state.floatbank10_a_level                   22647 non-null  float64\n",
      " 54  rougher.state.floatbank10_b_air                     22646 non-null  float64\n",
      " 55  rougher.state.floatbank10_b_level                   22647 non-null  float64\n",
      " 56  rougher.state.floatbank10_c_air                     22646 non-null  float64\n",
      " 57  rougher.state.floatbank10_c_level                   22654 non-null  float64\n",
      " 58  rougher.state.floatbank10_d_air                     22641 non-null  float64\n",
      " 59  rougher.state.floatbank10_d_level                   22649 non-null  float64\n",
      " 60  rougher.state.floatbank10_e_air                     22096 non-null  float64\n",
      " 61  rougher.state.floatbank10_e_level                   22649 non-null  float64\n",
      " 62  rougher.state.floatbank10_f_air                     22641 non-null  float64\n",
      " 63  rougher.state.floatbank10_f_level                   22642 non-null  float64\n",
      " 64  secondary_cleaner.output.tail_ag                    22616 non-null  float64\n",
      " 65  secondary_cleaner.output.tail_pb                    22600 non-null  float64\n",
      " 66  secondary_cleaner.output.tail_sol                   20501 non-null  float64\n",
      " 67  secondary_cleaner.output.tail_au                    22618 non-null  float64\n",
      " 68  secondary_cleaner.state.floatbank2_a_air            22333 non-null  float64\n",
      " 69  secondary_cleaner.state.floatbank2_a_level          22591 non-null  float64\n",
      " 70  secondary_cleaner.state.floatbank2_b_air            22538 non-null  float64\n",
      " 71  secondary_cleaner.state.floatbank2_b_level          22588 non-null  float64\n",
      " 72  secondary_cleaner.state.floatbank3_a_air            22585 non-null  float64\n",
      " 73  secondary_cleaner.state.floatbank3_a_level          22587 non-null  float64\n",
      " 74  secondary_cleaner.state.floatbank3_b_air            22592 non-null  float64\n",
      " 75  secondary_cleaner.state.floatbank3_b_level          22590 non-null  float64\n",
      " 76  secondary_cleaner.state.floatbank4_a_air            22571 non-null  float64\n",
      " 77  secondary_cleaner.state.floatbank4_a_level          22587 non-null  float64\n",
      " 78  secondary_cleaner.state.floatbank4_b_air            22608 non-null  float64\n",
      " 79  secondary_cleaner.state.floatbank4_b_level          22607 non-null  float64\n",
      " 80  secondary_cleaner.state.floatbank5_a_air            22615 non-null  float64\n",
      " 81  secondary_cleaner.state.floatbank5_a_level          22615 non-null  float64\n",
      " 82  secondary_cleaner.state.floatbank5_b_air            22615 non-null  float64\n",
      " 83  secondary_cleaner.state.floatbank5_b_level          22616 non-null  float64\n",
      " 84  secondary_cleaner.state.floatbank6_a_air            22597 non-null  float64\n",
      " 85  secondary_cleaner.state.floatbank6_a_level          22615 non-null  float64\n",
      "dtypes: float64(86)\n",
      "memory usage: 15.1+ MB\n"
     ]
    },
    {
     "data": {
      "text/plain": [
       "None"
      ]
     },
     "metadata": {},
     "output_type": "display_data"
    },
    {
     "data": {
      "text/html": [
       "<div>\n",
       "<style scoped>\n",
       "    .dataframe tbody tr th:only-of-type {\n",
       "        vertical-align: middle;\n",
       "    }\n",
       "\n",
       "    .dataframe tbody tr th {\n",
       "        vertical-align: top;\n",
       "    }\n",
       "\n",
       "    .dataframe thead th {\n",
       "        text-align: right;\n",
       "    }\n",
       "</style>\n",
       "<table border=\"1\" class=\"dataframe\">\n",
       "  <thead>\n",
       "    <tr style=\"text-align: right;\">\n",
       "      <th></th>\n",
       "      <th>final.output.concentrate_ag</th>\n",
       "      <th>final.output.concentrate_pb</th>\n",
       "      <th>final.output.concentrate_sol</th>\n",
       "      <th>final.output.concentrate_au</th>\n",
       "      <th>final.output.recovery</th>\n",
       "      <th>final.output.tail_ag</th>\n",
       "      <th>final.output.tail_pb</th>\n",
       "      <th>final.output.tail_sol</th>\n",
       "      <th>final.output.tail_au</th>\n",
       "      <th>primary_cleaner.input.sulfate</th>\n",
       "      <th>...</th>\n",
       "      <th>secondary_cleaner.state.floatbank4_a_air</th>\n",
       "      <th>secondary_cleaner.state.floatbank4_a_level</th>\n",
       "      <th>secondary_cleaner.state.floatbank4_b_air</th>\n",
       "      <th>secondary_cleaner.state.floatbank4_b_level</th>\n",
       "      <th>secondary_cleaner.state.floatbank5_a_air</th>\n",
       "      <th>secondary_cleaner.state.floatbank5_a_level</th>\n",
       "      <th>secondary_cleaner.state.floatbank5_b_air</th>\n",
       "      <th>secondary_cleaner.state.floatbank5_b_level</th>\n",
       "      <th>secondary_cleaner.state.floatbank6_a_air</th>\n",
       "      <th>secondary_cleaner.state.floatbank6_a_level</th>\n",
       "    </tr>\n",
       "    <tr>\n",
       "      <th>date</th>\n",
       "      <th></th>\n",
       "      <th></th>\n",
       "      <th></th>\n",
       "      <th></th>\n",
       "      <th></th>\n",
       "      <th></th>\n",
       "      <th></th>\n",
       "      <th></th>\n",
       "      <th></th>\n",
       "      <th></th>\n",
       "      <th></th>\n",
       "      <th></th>\n",
       "      <th></th>\n",
       "      <th></th>\n",
       "      <th></th>\n",
       "      <th></th>\n",
       "      <th></th>\n",
       "      <th></th>\n",
       "      <th></th>\n",
       "      <th></th>\n",
       "      <th></th>\n",
       "    </tr>\n",
       "  </thead>\n",
       "  <tbody>\n",
       "    <tr>\n",
       "      <th>2016-01-15 00:00:00</th>\n",
       "      <td>6.055403</td>\n",
       "      <td>9.889648</td>\n",
       "      <td>5.507324</td>\n",
       "      <td>42.192020</td>\n",
       "      <td>70.541216</td>\n",
       "      <td>10.411962</td>\n",
       "      <td>0.895447</td>\n",
       "      <td>16.904297</td>\n",
       "      <td>2.143149</td>\n",
       "      <td>127.092003</td>\n",
       "      <td>...</td>\n",
       "      <td>14.016835</td>\n",
       "      <td>-502.488007</td>\n",
       "      <td>12.099931</td>\n",
       "      <td>-504.715942</td>\n",
       "      <td>9.925633</td>\n",
       "      <td>-498.310211</td>\n",
       "      <td>8.079666</td>\n",
       "      <td>-500.470978</td>\n",
       "      <td>14.151341</td>\n",
       "      <td>-605.841980</td>\n",
       "    </tr>\n",
       "    <tr>\n",
       "      <th>2016-01-15 01:00:00</th>\n",
       "      <td>6.029369</td>\n",
       "      <td>9.968944</td>\n",
       "      <td>5.257781</td>\n",
       "      <td>42.701629</td>\n",
       "      <td>69.266198</td>\n",
       "      <td>10.462676</td>\n",
       "      <td>0.927452</td>\n",
       "      <td>16.634514</td>\n",
       "      <td>2.224930</td>\n",
       "      <td>125.629232</td>\n",
       "      <td>...</td>\n",
       "      <td>13.992281</td>\n",
       "      <td>-505.503262</td>\n",
       "      <td>11.950531</td>\n",
       "      <td>-501.331529</td>\n",
       "      <td>10.039245</td>\n",
       "      <td>-500.169983</td>\n",
       "      <td>7.984757</td>\n",
       "      <td>-500.582168</td>\n",
       "      <td>13.998353</td>\n",
       "      <td>-599.787184</td>\n",
       "    </tr>\n",
       "    <tr>\n",
       "      <th>2016-01-15 02:00:00</th>\n",
       "      <td>6.055926</td>\n",
       "      <td>10.213995</td>\n",
       "      <td>5.383759</td>\n",
       "      <td>42.657501</td>\n",
       "      <td>68.116445</td>\n",
       "      <td>10.507046</td>\n",
       "      <td>0.953716</td>\n",
       "      <td>16.208849</td>\n",
       "      <td>2.257889</td>\n",
       "      <td>123.819808</td>\n",
       "      <td>...</td>\n",
       "      <td>14.015015</td>\n",
       "      <td>-502.520901</td>\n",
       "      <td>11.912783</td>\n",
       "      <td>-501.133383</td>\n",
       "      <td>10.070913</td>\n",
       "      <td>-500.129135</td>\n",
       "      <td>8.013877</td>\n",
       "      <td>-500.517572</td>\n",
       "      <td>14.028663</td>\n",
       "      <td>-601.427363</td>\n",
       "    </tr>\n",
       "    <tr>\n",
       "      <th>2016-01-15 03:00:00</th>\n",
       "      <td>6.047977</td>\n",
       "      <td>9.977019</td>\n",
       "      <td>4.858634</td>\n",
       "      <td>42.689819</td>\n",
       "      <td>68.347543</td>\n",
       "      <td>10.422762</td>\n",
       "      <td>0.883763</td>\n",
       "      <td>16.532835</td>\n",
       "      <td>2.146849</td>\n",
       "      <td>122.270188</td>\n",
       "      <td>...</td>\n",
       "      <td>14.036510</td>\n",
       "      <td>-500.857308</td>\n",
       "      <td>11.999550</td>\n",
       "      <td>-501.193686</td>\n",
       "      <td>9.970366</td>\n",
       "      <td>-499.201640</td>\n",
       "      <td>7.977324</td>\n",
       "      <td>-500.255908</td>\n",
       "      <td>14.005551</td>\n",
       "      <td>-599.996129</td>\n",
       "    </tr>\n",
       "    <tr>\n",
       "      <th>2016-01-15 04:00:00</th>\n",
       "      <td>6.148599</td>\n",
       "      <td>10.142511</td>\n",
       "      <td>4.939416</td>\n",
       "      <td>42.774141</td>\n",
       "      <td>66.927016</td>\n",
       "      <td>10.360302</td>\n",
       "      <td>0.792826</td>\n",
       "      <td>16.525686</td>\n",
       "      <td>2.055292</td>\n",
       "      <td>117.988169</td>\n",
       "      <td>...</td>\n",
       "      <td>14.027298</td>\n",
       "      <td>-499.838632</td>\n",
       "      <td>11.953070</td>\n",
       "      <td>-501.053894</td>\n",
       "      <td>9.925709</td>\n",
       "      <td>-501.686727</td>\n",
       "      <td>7.894242</td>\n",
       "      <td>-500.356035</td>\n",
       "      <td>13.996647</td>\n",
       "      <td>-601.496691</td>\n",
       "    </tr>\n",
       "  </tbody>\n",
       "</table>\n",
       "<p>5 rows × 86 columns</p>\n",
       "</div>"
      ],
      "text/plain": [
       "                     final.output.concentrate_ag  final.output.concentrate_pb  \\\n",
       "date                                                                            \n",
       "2016-01-15 00:00:00                     6.055403                     9.889648   \n",
       "2016-01-15 01:00:00                     6.029369                     9.968944   \n",
       "2016-01-15 02:00:00                     6.055926                    10.213995   \n",
       "2016-01-15 03:00:00                     6.047977                     9.977019   \n",
       "2016-01-15 04:00:00                     6.148599                    10.142511   \n",
       "\n",
       "                     final.output.concentrate_sol  \\\n",
       "date                                                \n",
       "2016-01-15 00:00:00                      5.507324   \n",
       "2016-01-15 01:00:00                      5.257781   \n",
       "2016-01-15 02:00:00                      5.383759   \n",
       "2016-01-15 03:00:00                      4.858634   \n",
       "2016-01-15 04:00:00                      4.939416   \n",
       "\n",
       "                     final.output.concentrate_au  final.output.recovery  \\\n",
       "date                                                                      \n",
       "2016-01-15 00:00:00                    42.192020              70.541216   \n",
       "2016-01-15 01:00:00                    42.701629              69.266198   \n",
       "2016-01-15 02:00:00                    42.657501              68.116445   \n",
       "2016-01-15 03:00:00                    42.689819              68.347543   \n",
       "2016-01-15 04:00:00                    42.774141              66.927016   \n",
       "\n",
       "                     final.output.tail_ag  final.output.tail_pb  \\\n",
       "date                                                              \n",
       "2016-01-15 00:00:00             10.411962              0.895447   \n",
       "2016-01-15 01:00:00             10.462676              0.927452   \n",
       "2016-01-15 02:00:00             10.507046              0.953716   \n",
       "2016-01-15 03:00:00             10.422762              0.883763   \n",
       "2016-01-15 04:00:00             10.360302              0.792826   \n",
       "\n",
       "                     final.output.tail_sol  final.output.tail_au  \\\n",
       "date                                                               \n",
       "2016-01-15 00:00:00              16.904297              2.143149   \n",
       "2016-01-15 01:00:00              16.634514              2.224930   \n",
       "2016-01-15 02:00:00              16.208849              2.257889   \n",
       "2016-01-15 03:00:00              16.532835              2.146849   \n",
       "2016-01-15 04:00:00              16.525686              2.055292   \n",
       "\n",
       "                     primary_cleaner.input.sulfate  ...  \\\n",
       "date                                                ...   \n",
       "2016-01-15 00:00:00                     127.092003  ...   \n",
       "2016-01-15 01:00:00                     125.629232  ...   \n",
       "2016-01-15 02:00:00                     123.819808  ...   \n",
       "2016-01-15 03:00:00                     122.270188  ...   \n",
       "2016-01-15 04:00:00                     117.988169  ...   \n",
       "\n",
       "                     secondary_cleaner.state.floatbank4_a_air  \\\n",
       "date                                                            \n",
       "2016-01-15 00:00:00                                 14.016835   \n",
       "2016-01-15 01:00:00                                 13.992281   \n",
       "2016-01-15 02:00:00                                 14.015015   \n",
       "2016-01-15 03:00:00                                 14.036510   \n",
       "2016-01-15 04:00:00                                 14.027298   \n",
       "\n",
       "                     secondary_cleaner.state.floatbank4_a_level  \\\n",
       "date                                                              \n",
       "2016-01-15 00:00:00                                 -502.488007   \n",
       "2016-01-15 01:00:00                                 -505.503262   \n",
       "2016-01-15 02:00:00                                 -502.520901   \n",
       "2016-01-15 03:00:00                                 -500.857308   \n",
       "2016-01-15 04:00:00                                 -499.838632   \n",
       "\n",
       "                     secondary_cleaner.state.floatbank4_b_air  \\\n",
       "date                                                            \n",
       "2016-01-15 00:00:00                                 12.099931   \n",
       "2016-01-15 01:00:00                                 11.950531   \n",
       "2016-01-15 02:00:00                                 11.912783   \n",
       "2016-01-15 03:00:00                                 11.999550   \n",
       "2016-01-15 04:00:00                                 11.953070   \n",
       "\n",
       "                     secondary_cleaner.state.floatbank4_b_level  \\\n",
       "date                                                              \n",
       "2016-01-15 00:00:00                                 -504.715942   \n",
       "2016-01-15 01:00:00                                 -501.331529   \n",
       "2016-01-15 02:00:00                                 -501.133383   \n",
       "2016-01-15 03:00:00                                 -501.193686   \n",
       "2016-01-15 04:00:00                                 -501.053894   \n",
       "\n",
       "                     secondary_cleaner.state.floatbank5_a_air  \\\n",
       "date                                                            \n",
       "2016-01-15 00:00:00                                  9.925633   \n",
       "2016-01-15 01:00:00                                 10.039245   \n",
       "2016-01-15 02:00:00                                 10.070913   \n",
       "2016-01-15 03:00:00                                  9.970366   \n",
       "2016-01-15 04:00:00                                  9.925709   \n",
       "\n",
       "                     secondary_cleaner.state.floatbank5_a_level  \\\n",
       "date                                                              \n",
       "2016-01-15 00:00:00                                 -498.310211   \n",
       "2016-01-15 01:00:00                                 -500.169983   \n",
       "2016-01-15 02:00:00                                 -500.129135   \n",
       "2016-01-15 03:00:00                                 -499.201640   \n",
       "2016-01-15 04:00:00                                 -501.686727   \n",
       "\n",
       "                     secondary_cleaner.state.floatbank5_b_air  \\\n",
       "date                                                            \n",
       "2016-01-15 00:00:00                                  8.079666   \n",
       "2016-01-15 01:00:00                                  7.984757   \n",
       "2016-01-15 02:00:00                                  8.013877   \n",
       "2016-01-15 03:00:00                                  7.977324   \n",
       "2016-01-15 04:00:00                                  7.894242   \n",
       "\n",
       "                     secondary_cleaner.state.floatbank5_b_level  \\\n",
       "date                                                              \n",
       "2016-01-15 00:00:00                                 -500.470978   \n",
       "2016-01-15 01:00:00                                 -500.582168   \n",
       "2016-01-15 02:00:00                                 -500.517572   \n",
       "2016-01-15 03:00:00                                 -500.255908   \n",
       "2016-01-15 04:00:00                                 -500.356035   \n",
       "\n",
       "                     secondary_cleaner.state.floatbank6_a_air  \\\n",
       "date                                                            \n",
       "2016-01-15 00:00:00                                 14.151341   \n",
       "2016-01-15 01:00:00                                 13.998353   \n",
       "2016-01-15 02:00:00                                 14.028663   \n",
       "2016-01-15 03:00:00                                 14.005551   \n",
       "2016-01-15 04:00:00                                 13.996647   \n",
       "\n",
       "                     secondary_cleaner.state.floatbank6_a_level  \n",
       "date                                                             \n",
       "2016-01-15 00:00:00                                 -605.841980  \n",
       "2016-01-15 01:00:00                                 -599.787184  \n",
       "2016-01-15 02:00:00                                 -601.427363  \n",
       "2016-01-15 03:00:00                                 -599.996129  \n",
       "2016-01-15 04:00:00                                 -601.496691  \n",
       "\n",
       "[5 rows x 86 columns]"
      ]
     },
     "metadata": {},
     "output_type": "display_data"
    },
    {
     "data": {
      "text/html": [
       "<div>\n",
       "<style scoped>\n",
       "    .dataframe tbody tr th:only-of-type {\n",
       "        vertical-align: middle;\n",
       "    }\n",
       "\n",
       "    .dataframe tbody tr th {\n",
       "        vertical-align: top;\n",
       "    }\n",
       "\n",
       "    .dataframe thead th {\n",
       "        text-align: right;\n",
       "    }\n",
       "</style>\n",
       "<table border=\"1\" class=\"dataframe\">\n",
       "  <thead>\n",
       "    <tr style=\"text-align: right;\">\n",
       "      <th></th>\n",
       "      <th>primary_cleaner.input.sulfate</th>\n",
       "      <th>primary_cleaner.input.depressant</th>\n",
       "      <th>primary_cleaner.input.feed_size</th>\n",
       "      <th>primary_cleaner.input.xanthate</th>\n",
       "      <th>primary_cleaner.state.floatbank8_a_air</th>\n",
       "      <th>primary_cleaner.state.floatbank8_a_level</th>\n",
       "      <th>primary_cleaner.state.floatbank8_b_air</th>\n",
       "      <th>primary_cleaner.state.floatbank8_b_level</th>\n",
       "      <th>primary_cleaner.state.floatbank8_c_air</th>\n",
       "      <th>primary_cleaner.state.floatbank8_c_level</th>\n",
       "      <th>...</th>\n",
       "      <th>secondary_cleaner.state.floatbank4_a_air</th>\n",
       "      <th>secondary_cleaner.state.floatbank4_a_level</th>\n",
       "      <th>secondary_cleaner.state.floatbank4_b_air</th>\n",
       "      <th>secondary_cleaner.state.floatbank4_b_level</th>\n",
       "      <th>secondary_cleaner.state.floatbank5_a_air</th>\n",
       "      <th>secondary_cleaner.state.floatbank5_a_level</th>\n",
       "      <th>secondary_cleaner.state.floatbank5_b_air</th>\n",
       "      <th>secondary_cleaner.state.floatbank5_b_level</th>\n",
       "      <th>secondary_cleaner.state.floatbank6_a_air</th>\n",
       "      <th>secondary_cleaner.state.floatbank6_a_level</th>\n",
       "    </tr>\n",
       "    <tr>\n",
       "      <th>date</th>\n",
       "      <th></th>\n",
       "      <th></th>\n",
       "      <th></th>\n",
       "      <th></th>\n",
       "      <th></th>\n",
       "      <th></th>\n",
       "      <th></th>\n",
       "      <th></th>\n",
       "      <th></th>\n",
       "      <th></th>\n",
       "      <th></th>\n",
       "      <th></th>\n",
       "      <th></th>\n",
       "      <th></th>\n",
       "      <th></th>\n",
       "      <th></th>\n",
       "      <th></th>\n",
       "      <th></th>\n",
       "      <th></th>\n",
       "      <th></th>\n",
       "      <th></th>\n",
       "    </tr>\n",
       "  </thead>\n",
       "  <tbody>\n",
       "    <tr>\n",
       "      <th>2016-09-01 00:59:59</th>\n",
       "      <td>210.800909</td>\n",
       "      <td>14.993118</td>\n",
       "      <td>8.080000</td>\n",
       "      <td>1.005021</td>\n",
       "      <td>1398.981301</td>\n",
       "      <td>-500.225577</td>\n",
       "      <td>1399.144926</td>\n",
       "      <td>-499.919735</td>\n",
       "      <td>1400.102998</td>\n",
       "      <td>-500.704369</td>\n",
       "      <td>...</td>\n",
       "      <td>12.023554</td>\n",
       "      <td>-497.795834</td>\n",
       "      <td>8.016656</td>\n",
       "      <td>-501.289139</td>\n",
       "      <td>7.946562</td>\n",
       "      <td>-432.317850</td>\n",
       "      <td>4.872511</td>\n",
       "      <td>-500.037437</td>\n",
       "      <td>26.705889</td>\n",
       "      <td>-499.709414</td>\n",
       "    </tr>\n",
       "    <tr>\n",
       "      <th>2016-09-01 01:59:59</th>\n",
       "      <td>215.392455</td>\n",
       "      <td>14.987471</td>\n",
       "      <td>8.080000</td>\n",
       "      <td>0.990469</td>\n",
       "      <td>1398.777912</td>\n",
       "      <td>-500.057435</td>\n",
       "      <td>1398.055362</td>\n",
       "      <td>-499.778182</td>\n",
       "      <td>1396.151033</td>\n",
       "      <td>-499.240168</td>\n",
       "      <td>...</td>\n",
       "      <td>12.058140</td>\n",
       "      <td>-498.695773</td>\n",
       "      <td>8.130979</td>\n",
       "      <td>-499.634209</td>\n",
       "      <td>7.958270</td>\n",
       "      <td>-525.839648</td>\n",
       "      <td>4.878850</td>\n",
       "      <td>-500.162375</td>\n",
       "      <td>25.019940</td>\n",
       "      <td>-499.819438</td>\n",
       "    </tr>\n",
       "    <tr>\n",
       "      <th>2016-09-01 02:59:59</th>\n",
       "      <td>215.259946</td>\n",
       "      <td>12.884934</td>\n",
       "      <td>7.786667</td>\n",
       "      <td>0.996043</td>\n",
       "      <td>1398.493666</td>\n",
       "      <td>-500.868360</td>\n",
       "      <td>1398.860436</td>\n",
       "      <td>-499.764529</td>\n",
       "      <td>1398.075709</td>\n",
       "      <td>-502.151509</td>\n",
       "      <td>...</td>\n",
       "      <td>11.962366</td>\n",
       "      <td>-498.767484</td>\n",
       "      <td>8.096893</td>\n",
       "      <td>-500.827423</td>\n",
       "      <td>8.071056</td>\n",
       "      <td>-500.801673</td>\n",
       "      <td>4.905125</td>\n",
       "      <td>-499.828510</td>\n",
       "      <td>24.994862</td>\n",
       "      <td>-500.622559</td>\n",
       "    </tr>\n",
       "    <tr>\n",
       "      <th>2016-09-01 03:59:59</th>\n",
       "      <td>215.336236</td>\n",
       "      <td>12.006805</td>\n",
       "      <td>7.640000</td>\n",
       "      <td>0.863514</td>\n",
       "      <td>1399.618111</td>\n",
       "      <td>-498.863574</td>\n",
       "      <td>1397.440120</td>\n",
       "      <td>-499.211024</td>\n",
       "      <td>1400.129303</td>\n",
       "      <td>-498.355873</td>\n",
       "      <td>...</td>\n",
       "      <td>12.033091</td>\n",
       "      <td>-498.350935</td>\n",
       "      <td>8.074946</td>\n",
       "      <td>-499.474407</td>\n",
       "      <td>7.897085</td>\n",
       "      <td>-500.868509</td>\n",
       "      <td>4.931400</td>\n",
       "      <td>-499.963623</td>\n",
       "      <td>24.948919</td>\n",
       "      <td>-498.709987</td>\n",
       "    </tr>\n",
       "    <tr>\n",
       "      <th>2016-09-01 04:59:59</th>\n",
       "      <td>199.099327</td>\n",
       "      <td>10.682530</td>\n",
       "      <td>7.530000</td>\n",
       "      <td>0.805575</td>\n",
       "      <td>1401.268123</td>\n",
       "      <td>-500.808305</td>\n",
       "      <td>1398.128818</td>\n",
       "      <td>-499.504543</td>\n",
       "      <td>1402.172226</td>\n",
       "      <td>-500.810606</td>\n",
       "      <td>...</td>\n",
       "      <td>12.025367</td>\n",
       "      <td>-500.786497</td>\n",
       "      <td>8.054678</td>\n",
       "      <td>-500.397500</td>\n",
       "      <td>8.107890</td>\n",
       "      <td>-509.526725</td>\n",
       "      <td>4.957674</td>\n",
       "      <td>-500.360026</td>\n",
       "      <td>25.003331</td>\n",
       "      <td>-500.856333</td>\n",
       "    </tr>\n",
       "  </tbody>\n",
       "</table>\n",
       "<p>5 rows × 52 columns</p>\n",
       "</div>"
      ],
      "text/plain": [
       "                     primary_cleaner.input.sulfate  \\\n",
       "date                                                 \n",
       "2016-09-01 00:59:59                     210.800909   \n",
       "2016-09-01 01:59:59                     215.392455   \n",
       "2016-09-01 02:59:59                     215.259946   \n",
       "2016-09-01 03:59:59                     215.336236   \n",
       "2016-09-01 04:59:59                     199.099327   \n",
       "\n",
       "                     primary_cleaner.input.depressant  \\\n",
       "date                                                    \n",
       "2016-09-01 00:59:59                         14.993118   \n",
       "2016-09-01 01:59:59                         14.987471   \n",
       "2016-09-01 02:59:59                         12.884934   \n",
       "2016-09-01 03:59:59                         12.006805   \n",
       "2016-09-01 04:59:59                         10.682530   \n",
       "\n",
       "                     primary_cleaner.input.feed_size  \\\n",
       "date                                                   \n",
       "2016-09-01 00:59:59                         8.080000   \n",
       "2016-09-01 01:59:59                         8.080000   \n",
       "2016-09-01 02:59:59                         7.786667   \n",
       "2016-09-01 03:59:59                         7.640000   \n",
       "2016-09-01 04:59:59                         7.530000   \n",
       "\n",
       "                     primary_cleaner.input.xanthate  \\\n",
       "date                                                  \n",
       "2016-09-01 00:59:59                        1.005021   \n",
       "2016-09-01 01:59:59                        0.990469   \n",
       "2016-09-01 02:59:59                        0.996043   \n",
       "2016-09-01 03:59:59                        0.863514   \n",
       "2016-09-01 04:59:59                        0.805575   \n",
       "\n",
       "                     primary_cleaner.state.floatbank8_a_air  \\\n",
       "date                                                          \n",
       "2016-09-01 00:59:59                             1398.981301   \n",
       "2016-09-01 01:59:59                             1398.777912   \n",
       "2016-09-01 02:59:59                             1398.493666   \n",
       "2016-09-01 03:59:59                             1399.618111   \n",
       "2016-09-01 04:59:59                             1401.268123   \n",
       "\n",
       "                     primary_cleaner.state.floatbank8_a_level  \\\n",
       "date                                                            \n",
       "2016-09-01 00:59:59                               -500.225577   \n",
       "2016-09-01 01:59:59                               -500.057435   \n",
       "2016-09-01 02:59:59                               -500.868360   \n",
       "2016-09-01 03:59:59                               -498.863574   \n",
       "2016-09-01 04:59:59                               -500.808305   \n",
       "\n",
       "                     primary_cleaner.state.floatbank8_b_air  \\\n",
       "date                                                          \n",
       "2016-09-01 00:59:59                             1399.144926   \n",
       "2016-09-01 01:59:59                             1398.055362   \n",
       "2016-09-01 02:59:59                             1398.860436   \n",
       "2016-09-01 03:59:59                             1397.440120   \n",
       "2016-09-01 04:59:59                             1398.128818   \n",
       "\n",
       "                     primary_cleaner.state.floatbank8_b_level  \\\n",
       "date                                                            \n",
       "2016-09-01 00:59:59                               -499.919735   \n",
       "2016-09-01 01:59:59                               -499.778182   \n",
       "2016-09-01 02:59:59                               -499.764529   \n",
       "2016-09-01 03:59:59                               -499.211024   \n",
       "2016-09-01 04:59:59                               -499.504543   \n",
       "\n",
       "                     primary_cleaner.state.floatbank8_c_air  \\\n",
       "date                                                          \n",
       "2016-09-01 00:59:59                             1400.102998   \n",
       "2016-09-01 01:59:59                             1396.151033   \n",
       "2016-09-01 02:59:59                             1398.075709   \n",
       "2016-09-01 03:59:59                             1400.129303   \n",
       "2016-09-01 04:59:59                             1402.172226   \n",
       "\n",
       "                     primary_cleaner.state.floatbank8_c_level  ...  \\\n",
       "date                                                           ...   \n",
       "2016-09-01 00:59:59                               -500.704369  ...   \n",
       "2016-09-01 01:59:59                               -499.240168  ...   \n",
       "2016-09-01 02:59:59                               -502.151509  ...   \n",
       "2016-09-01 03:59:59                               -498.355873  ...   \n",
       "2016-09-01 04:59:59                               -500.810606  ...   \n",
       "\n",
       "                     secondary_cleaner.state.floatbank4_a_air  \\\n",
       "date                                                            \n",
       "2016-09-01 00:59:59                                 12.023554   \n",
       "2016-09-01 01:59:59                                 12.058140   \n",
       "2016-09-01 02:59:59                                 11.962366   \n",
       "2016-09-01 03:59:59                                 12.033091   \n",
       "2016-09-01 04:59:59                                 12.025367   \n",
       "\n",
       "                     secondary_cleaner.state.floatbank4_a_level  \\\n",
       "date                                                              \n",
       "2016-09-01 00:59:59                                 -497.795834   \n",
       "2016-09-01 01:59:59                                 -498.695773   \n",
       "2016-09-01 02:59:59                                 -498.767484   \n",
       "2016-09-01 03:59:59                                 -498.350935   \n",
       "2016-09-01 04:59:59                                 -500.786497   \n",
       "\n",
       "                     secondary_cleaner.state.floatbank4_b_air  \\\n",
       "date                                                            \n",
       "2016-09-01 00:59:59                                  8.016656   \n",
       "2016-09-01 01:59:59                                  8.130979   \n",
       "2016-09-01 02:59:59                                  8.096893   \n",
       "2016-09-01 03:59:59                                  8.074946   \n",
       "2016-09-01 04:59:59                                  8.054678   \n",
       "\n",
       "                     secondary_cleaner.state.floatbank4_b_level  \\\n",
       "date                                                              \n",
       "2016-09-01 00:59:59                                 -501.289139   \n",
       "2016-09-01 01:59:59                                 -499.634209   \n",
       "2016-09-01 02:59:59                                 -500.827423   \n",
       "2016-09-01 03:59:59                                 -499.474407   \n",
       "2016-09-01 04:59:59                                 -500.397500   \n",
       "\n",
       "                     secondary_cleaner.state.floatbank5_a_air  \\\n",
       "date                                                            \n",
       "2016-09-01 00:59:59                                  7.946562   \n",
       "2016-09-01 01:59:59                                  7.958270   \n",
       "2016-09-01 02:59:59                                  8.071056   \n",
       "2016-09-01 03:59:59                                  7.897085   \n",
       "2016-09-01 04:59:59                                  8.107890   \n",
       "\n",
       "                     secondary_cleaner.state.floatbank5_a_level  \\\n",
       "date                                                              \n",
       "2016-09-01 00:59:59                                 -432.317850   \n",
       "2016-09-01 01:59:59                                 -525.839648   \n",
       "2016-09-01 02:59:59                                 -500.801673   \n",
       "2016-09-01 03:59:59                                 -500.868509   \n",
       "2016-09-01 04:59:59                                 -509.526725   \n",
       "\n",
       "                     secondary_cleaner.state.floatbank5_b_air  \\\n",
       "date                                                            \n",
       "2016-09-01 00:59:59                                  4.872511   \n",
       "2016-09-01 01:59:59                                  4.878850   \n",
       "2016-09-01 02:59:59                                  4.905125   \n",
       "2016-09-01 03:59:59                                  4.931400   \n",
       "2016-09-01 04:59:59                                  4.957674   \n",
       "\n",
       "                     secondary_cleaner.state.floatbank5_b_level  \\\n",
       "date                                                              \n",
       "2016-09-01 00:59:59                                 -500.037437   \n",
       "2016-09-01 01:59:59                                 -500.162375   \n",
       "2016-09-01 02:59:59                                 -499.828510   \n",
       "2016-09-01 03:59:59                                 -499.963623   \n",
       "2016-09-01 04:59:59                                 -500.360026   \n",
       "\n",
       "                     secondary_cleaner.state.floatbank6_a_air  \\\n",
       "date                                                            \n",
       "2016-09-01 00:59:59                                 26.705889   \n",
       "2016-09-01 01:59:59                                 25.019940   \n",
       "2016-09-01 02:59:59                                 24.994862   \n",
       "2016-09-01 03:59:59                                 24.948919   \n",
       "2016-09-01 04:59:59                                 25.003331   \n",
       "\n",
       "                     secondary_cleaner.state.floatbank6_a_level  \n",
       "date                                                             \n",
       "2016-09-01 00:59:59                                 -499.709414  \n",
       "2016-09-01 01:59:59                                 -499.819438  \n",
       "2016-09-01 02:59:59                                 -500.622559  \n",
       "2016-09-01 03:59:59                                 -498.709987  \n",
       "2016-09-01 04:59:59                                 -500.856333  \n",
       "\n",
       "[5 rows x 52 columns]"
      ]
     },
     "metadata": {},
     "output_type": "display_data"
    },
    {
     "data": {
      "text/html": [
       "<div>\n",
       "<style scoped>\n",
       "    .dataframe tbody tr th:only-of-type {\n",
       "        vertical-align: middle;\n",
       "    }\n",
       "\n",
       "    .dataframe tbody tr th {\n",
       "        vertical-align: top;\n",
       "    }\n",
       "\n",
       "    .dataframe thead th {\n",
       "        text-align: right;\n",
       "    }\n",
       "</style>\n",
       "<table border=\"1\" class=\"dataframe\">\n",
       "  <thead>\n",
       "    <tr style=\"text-align: right;\">\n",
       "      <th></th>\n",
       "      <th>final.output.concentrate_ag</th>\n",
       "      <th>final.output.concentrate_pb</th>\n",
       "      <th>final.output.concentrate_sol</th>\n",
       "      <th>final.output.concentrate_au</th>\n",
       "      <th>final.output.recovery</th>\n",
       "      <th>final.output.tail_ag</th>\n",
       "      <th>final.output.tail_pb</th>\n",
       "      <th>final.output.tail_sol</th>\n",
       "      <th>final.output.tail_au</th>\n",
       "      <th>primary_cleaner.input.sulfate</th>\n",
       "      <th>...</th>\n",
       "      <th>secondary_cleaner.state.floatbank4_a_air</th>\n",
       "      <th>secondary_cleaner.state.floatbank4_a_level</th>\n",
       "      <th>secondary_cleaner.state.floatbank4_b_air</th>\n",
       "      <th>secondary_cleaner.state.floatbank4_b_level</th>\n",
       "      <th>secondary_cleaner.state.floatbank5_a_air</th>\n",
       "      <th>secondary_cleaner.state.floatbank5_a_level</th>\n",
       "      <th>secondary_cleaner.state.floatbank5_b_air</th>\n",
       "      <th>secondary_cleaner.state.floatbank5_b_level</th>\n",
       "      <th>secondary_cleaner.state.floatbank6_a_air</th>\n",
       "      <th>secondary_cleaner.state.floatbank6_a_level</th>\n",
       "    </tr>\n",
       "    <tr>\n",
       "      <th>date</th>\n",
       "      <th></th>\n",
       "      <th></th>\n",
       "      <th></th>\n",
       "      <th></th>\n",
       "      <th></th>\n",
       "      <th></th>\n",
       "      <th></th>\n",
       "      <th></th>\n",
       "      <th></th>\n",
       "      <th></th>\n",
       "      <th></th>\n",
       "      <th></th>\n",
       "      <th></th>\n",
       "      <th></th>\n",
       "      <th></th>\n",
       "      <th></th>\n",
       "      <th></th>\n",
       "      <th></th>\n",
       "      <th></th>\n",
       "      <th></th>\n",
       "      <th></th>\n",
       "    </tr>\n",
       "  </thead>\n",
       "  <tbody>\n",
       "    <tr>\n",
       "      <th>2016-01-15 00:00:00</th>\n",
       "      <td>6.055403</td>\n",
       "      <td>9.889648</td>\n",
       "      <td>5.507324</td>\n",
       "      <td>42.192020</td>\n",
       "      <td>70.541216</td>\n",
       "      <td>10.411962</td>\n",
       "      <td>0.895447</td>\n",
       "      <td>16.904297</td>\n",
       "      <td>2.143149</td>\n",
       "      <td>127.092003</td>\n",
       "      <td>...</td>\n",
       "      <td>14.016835</td>\n",
       "      <td>-502.488007</td>\n",
       "      <td>12.099931</td>\n",
       "      <td>-504.715942</td>\n",
       "      <td>9.925633</td>\n",
       "      <td>-498.310211</td>\n",
       "      <td>8.079666</td>\n",
       "      <td>-500.470978</td>\n",
       "      <td>14.151341</td>\n",
       "      <td>-605.841980</td>\n",
       "    </tr>\n",
       "    <tr>\n",
       "      <th>2016-01-15 01:00:00</th>\n",
       "      <td>6.029369</td>\n",
       "      <td>9.968944</td>\n",
       "      <td>5.257781</td>\n",
       "      <td>42.701629</td>\n",
       "      <td>69.266198</td>\n",
       "      <td>10.462676</td>\n",
       "      <td>0.927452</td>\n",
       "      <td>16.634514</td>\n",
       "      <td>2.224930</td>\n",
       "      <td>125.629232</td>\n",
       "      <td>...</td>\n",
       "      <td>13.992281</td>\n",
       "      <td>-505.503262</td>\n",
       "      <td>11.950531</td>\n",
       "      <td>-501.331529</td>\n",
       "      <td>10.039245</td>\n",
       "      <td>-500.169983</td>\n",
       "      <td>7.984757</td>\n",
       "      <td>-500.582168</td>\n",
       "      <td>13.998353</td>\n",
       "      <td>-599.787184</td>\n",
       "    </tr>\n",
       "    <tr>\n",
       "      <th>2016-01-15 02:00:00</th>\n",
       "      <td>6.055926</td>\n",
       "      <td>10.213995</td>\n",
       "      <td>5.383759</td>\n",
       "      <td>42.657501</td>\n",
       "      <td>68.116445</td>\n",
       "      <td>10.507046</td>\n",
       "      <td>0.953716</td>\n",
       "      <td>16.208849</td>\n",
       "      <td>2.257889</td>\n",
       "      <td>123.819808</td>\n",
       "      <td>...</td>\n",
       "      <td>14.015015</td>\n",
       "      <td>-502.520901</td>\n",
       "      <td>11.912783</td>\n",
       "      <td>-501.133383</td>\n",
       "      <td>10.070913</td>\n",
       "      <td>-500.129135</td>\n",
       "      <td>8.013877</td>\n",
       "      <td>-500.517572</td>\n",
       "      <td>14.028663</td>\n",
       "      <td>-601.427363</td>\n",
       "    </tr>\n",
       "    <tr>\n",
       "      <th>2016-01-15 03:00:00</th>\n",
       "      <td>6.047977</td>\n",
       "      <td>9.977019</td>\n",
       "      <td>4.858634</td>\n",
       "      <td>42.689819</td>\n",
       "      <td>68.347543</td>\n",
       "      <td>10.422762</td>\n",
       "      <td>0.883763</td>\n",
       "      <td>16.532835</td>\n",
       "      <td>2.146849</td>\n",
       "      <td>122.270188</td>\n",
       "      <td>...</td>\n",
       "      <td>14.036510</td>\n",
       "      <td>-500.857308</td>\n",
       "      <td>11.999550</td>\n",
       "      <td>-501.193686</td>\n",
       "      <td>9.970366</td>\n",
       "      <td>-499.201640</td>\n",
       "      <td>7.977324</td>\n",
       "      <td>-500.255908</td>\n",
       "      <td>14.005551</td>\n",
       "      <td>-599.996129</td>\n",
       "    </tr>\n",
       "    <tr>\n",
       "      <th>2016-01-15 04:00:00</th>\n",
       "      <td>6.148599</td>\n",
       "      <td>10.142511</td>\n",
       "      <td>4.939416</td>\n",
       "      <td>42.774141</td>\n",
       "      <td>66.927016</td>\n",
       "      <td>10.360302</td>\n",
       "      <td>0.792826</td>\n",
       "      <td>16.525686</td>\n",
       "      <td>2.055292</td>\n",
       "      <td>117.988169</td>\n",
       "      <td>...</td>\n",
       "      <td>14.027298</td>\n",
       "      <td>-499.838632</td>\n",
       "      <td>11.953070</td>\n",
       "      <td>-501.053894</td>\n",
       "      <td>9.925709</td>\n",
       "      <td>-501.686727</td>\n",
       "      <td>7.894242</td>\n",
       "      <td>-500.356035</td>\n",
       "      <td>13.996647</td>\n",
       "      <td>-601.496691</td>\n",
       "    </tr>\n",
       "  </tbody>\n",
       "</table>\n",
       "<p>5 rows × 86 columns</p>\n",
       "</div>"
      ],
      "text/plain": [
       "                     final.output.concentrate_ag  final.output.concentrate_pb  \\\n",
       "date                                                                            \n",
       "2016-01-15 00:00:00                     6.055403                     9.889648   \n",
       "2016-01-15 01:00:00                     6.029369                     9.968944   \n",
       "2016-01-15 02:00:00                     6.055926                    10.213995   \n",
       "2016-01-15 03:00:00                     6.047977                     9.977019   \n",
       "2016-01-15 04:00:00                     6.148599                    10.142511   \n",
       "\n",
       "                     final.output.concentrate_sol  \\\n",
       "date                                                \n",
       "2016-01-15 00:00:00                      5.507324   \n",
       "2016-01-15 01:00:00                      5.257781   \n",
       "2016-01-15 02:00:00                      5.383759   \n",
       "2016-01-15 03:00:00                      4.858634   \n",
       "2016-01-15 04:00:00                      4.939416   \n",
       "\n",
       "                     final.output.concentrate_au  final.output.recovery  \\\n",
       "date                                                                      \n",
       "2016-01-15 00:00:00                    42.192020              70.541216   \n",
       "2016-01-15 01:00:00                    42.701629              69.266198   \n",
       "2016-01-15 02:00:00                    42.657501              68.116445   \n",
       "2016-01-15 03:00:00                    42.689819              68.347543   \n",
       "2016-01-15 04:00:00                    42.774141              66.927016   \n",
       "\n",
       "                     final.output.tail_ag  final.output.tail_pb  \\\n",
       "date                                                              \n",
       "2016-01-15 00:00:00             10.411962              0.895447   \n",
       "2016-01-15 01:00:00             10.462676              0.927452   \n",
       "2016-01-15 02:00:00             10.507046              0.953716   \n",
       "2016-01-15 03:00:00             10.422762              0.883763   \n",
       "2016-01-15 04:00:00             10.360302              0.792826   \n",
       "\n",
       "                     final.output.tail_sol  final.output.tail_au  \\\n",
       "date                                                               \n",
       "2016-01-15 00:00:00              16.904297              2.143149   \n",
       "2016-01-15 01:00:00              16.634514              2.224930   \n",
       "2016-01-15 02:00:00              16.208849              2.257889   \n",
       "2016-01-15 03:00:00              16.532835              2.146849   \n",
       "2016-01-15 04:00:00              16.525686              2.055292   \n",
       "\n",
       "                     primary_cleaner.input.sulfate  ...  \\\n",
       "date                                                ...   \n",
       "2016-01-15 00:00:00                     127.092003  ...   \n",
       "2016-01-15 01:00:00                     125.629232  ...   \n",
       "2016-01-15 02:00:00                     123.819808  ...   \n",
       "2016-01-15 03:00:00                     122.270188  ...   \n",
       "2016-01-15 04:00:00                     117.988169  ...   \n",
       "\n",
       "                     secondary_cleaner.state.floatbank4_a_air  \\\n",
       "date                                                            \n",
       "2016-01-15 00:00:00                                 14.016835   \n",
       "2016-01-15 01:00:00                                 13.992281   \n",
       "2016-01-15 02:00:00                                 14.015015   \n",
       "2016-01-15 03:00:00                                 14.036510   \n",
       "2016-01-15 04:00:00                                 14.027298   \n",
       "\n",
       "                     secondary_cleaner.state.floatbank4_a_level  \\\n",
       "date                                                              \n",
       "2016-01-15 00:00:00                                 -502.488007   \n",
       "2016-01-15 01:00:00                                 -505.503262   \n",
       "2016-01-15 02:00:00                                 -502.520901   \n",
       "2016-01-15 03:00:00                                 -500.857308   \n",
       "2016-01-15 04:00:00                                 -499.838632   \n",
       "\n",
       "                     secondary_cleaner.state.floatbank4_b_air  \\\n",
       "date                                                            \n",
       "2016-01-15 00:00:00                                 12.099931   \n",
       "2016-01-15 01:00:00                                 11.950531   \n",
       "2016-01-15 02:00:00                                 11.912783   \n",
       "2016-01-15 03:00:00                                 11.999550   \n",
       "2016-01-15 04:00:00                                 11.953070   \n",
       "\n",
       "                     secondary_cleaner.state.floatbank4_b_level  \\\n",
       "date                                                              \n",
       "2016-01-15 00:00:00                                 -504.715942   \n",
       "2016-01-15 01:00:00                                 -501.331529   \n",
       "2016-01-15 02:00:00                                 -501.133383   \n",
       "2016-01-15 03:00:00                                 -501.193686   \n",
       "2016-01-15 04:00:00                                 -501.053894   \n",
       "\n",
       "                     secondary_cleaner.state.floatbank5_a_air  \\\n",
       "date                                                            \n",
       "2016-01-15 00:00:00                                  9.925633   \n",
       "2016-01-15 01:00:00                                 10.039245   \n",
       "2016-01-15 02:00:00                                 10.070913   \n",
       "2016-01-15 03:00:00                                  9.970366   \n",
       "2016-01-15 04:00:00                                  9.925709   \n",
       "\n",
       "                     secondary_cleaner.state.floatbank5_a_level  \\\n",
       "date                                                              \n",
       "2016-01-15 00:00:00                                 -498.310211   \n",
       "2016-01-15 01:00:00                                 -500.169983   \n",
       "2016-01-15 02:00:00                                 -500.129135   \n",
       "2016-01-15 03:00:00                                 -499.201640   \n",
       "2016-01-15 04:00:00                                 -501.686727   \n",
       "\n",
       "                     secondary_cleaner.state.floatbank5_b_air  \\\n",
       "date                                                            \n",
       "2016-01-15 00:00:00                                  8.079666   \n",
       "2016-01-15 01:00:00                                  7.984757   \n",
       "2016-01-15 02:00:00                                  8.013877   \n",
       "2016-01-15 03:00:00                                  7.977324   \n",
       "2016-01-15 04:00:00                                  7.894242   \n",
       "\n",
       "                     secondary_cleaner.state.floatbank5_b_level  \\\n",
       "date                                                              \n",
       "2016-01-15 00:00:00                                 -500.470978   \n",
       "2016-01-15 01:00:00                                 -500.582168   \n",
       "2016-01-15 02:00:00                                 -500.517572   \n",
       "2016-01-15 03:00:00                                 -500.255908   \n",
       "2016-01-15 04:00:00                                 -500.356035   \n",
       "\n",
       "                     secondary_cleaner.state.floatbank6_a_air  \\\n",
       "date                                                            \n",
       "2016-01-15 00:00:00                                 14.151341   \n",
       "2016-01-15 01:00:00                                 13.998353   \n",
       "2016-01-15 02:00:00                                 14.028663   \n",
       "2016-01-15 03:00:00                                 14.005551   \n",
       "2016-01-15 04:00:00                                 13.996647   \n",
       "\n",
       "                     secondary_cleaner.state.floatbank6_a_level  \n",
       "date                                                             \n",
       "2016-01-15 00:00:00                                 -605.841980  \n",
       "2016-01-15 01:00:00                                 -599.787184  \n",
       "2016-01-15 02:00:00                                 -601.427363  \n",
       "2016-01-15 03:00:00                                 -599.996129  \n",
       "2016-01-15 04:00:00                                 -601.496691  \n",
       "\n",
       "[5 rows x 86 columns]"
      ]
     },
     "metadata": {},
     "output_type": "display_data"
    }
   ],
   "source": [
    "# Display basic information \n",
    "\n",
    "display(train.info())\n",
    "display(test.info())\n",
    "display(full.info())\n",
    "\n",
    "display(train.head())\n",
    "display(test.head())\n",
    "display(full.head())\n",
    "\n",
    "\n",
    "  "
   ]
  },
  {
   "cell_type": "markdown",
   "metadata": {},
   "source": [
    "#### Check that recovery is calculated correctly"
   ]
  },
  {
   "cell_type": "code",
   "execution_count": null,
   "metadata": {
    "trusted": true
   },
   "outputs": [
    {
     "name": "stdout",
     "output_type": "stream",
     "text": [
      "rougher.output.recovery    2573\n",
      "calculated_recovery        2283\n",
      "dtype: int64\n"
     ]
    }
   ],
   "source": [
    "# Check that recovery is calculated correctly using training set\n",
    "    # Formula for recovery: (C * (F - T)) / (F * (C - T)) * 100\n",
    "C = train[\"rougher.output.concentrate_au\"]\n",
    "F = train[\"rougher.input.feed_au\"]\n",
    "T = train['rougher.output.tail_au']\n",
    "    \n",
    "# Calculate recovery\n",
    "train[\"calculated_recovery\"] = (C * (F - T)) / (F * (C - T)) * 100\n",
    "\n",
    "print(train[['rougher.output.recovery', 'calculated_recovery']].isna().sum())"
   ]
  },
  {
   "cell_type": "code",
   "execution_count": null,
   "metadata": {
    "trusted": true
   },
   "outputs": [
    {
     "name": "stdout",
     "output_type": "stream",
     "text": [
      "rougher.output.recovery    0\n",
      "calculated_recovery        0\n",
      "dtype: int64\n",
      "MAE: 9.303415616264301e-15\n"
     ]
    }
   ],
   "source": [
    "# Calculate MAE difference between recovery and feature values\n",
    "\n",
    "#Drop missing values\n",
    "train = train.dropna(subset=['rougher.output.recovery', 'calculated_recovery'])\n",
    "print(train[['rougher.output.recovery', 'calculated_recovery']].isna().sum())\n",
    "\n",
    "rougher_mae = mean_absolute_error(train['rougher.output.recovery'],train['calculated_recovery'])\n",
    "print(f\"MAE: {rougher_mae}\")"
   ]
  },
  {
   "cell_type": "markdown",
   "metadata": {},
   "source": [
    "If the MAE is very low (close to 0), the recovery values in the dataset are correctly calculated and in this case, the MAE is very close to zero."
   ]
  },
  {
   "cell_type": "markdown",
   "metadata": {},
   "source": [
    "<div class=\"alert alert-block alert-success\">\n",
    "<b>Reviewer's comment V1</b> <a class=\"tocSkip\"></a>\n",
    "\n",
    "Good job!\n",
    "  \n",
    "</div>"
   ]
  },
  {
   "cell_type": "markdown",
   "metadata": {},
   "source": [
    "#### Analyze the features not available in the test set"
   ]
  },
  {
   "cell_type": "code",
   "execution_count": null,
   "metadata": {
    "trusted": true
   },
   "outputs": [
    {
     "name": "stdout",
     "output_type": "stream",
     "text": [
      "rougher.output.concentrate_pb                         float64\n",
      "rougher.calculation.sulfate_to_au_concentrate         float64\n",
      "rougher.output.tail_sol                               float64\n",
      "final.output.tail_pb                                  float64\n",
      "primary_cleaner.output.tail_ag                        float64\n",
      "calculated_recovery                                   float64\n",
      "final.output.concentrate_pb                           float64\n",
      "primary_cleaner.output.tail_au                        float64\n",
      "secondary_cleaner.output.tail_pb                      float64\n",
      "secondary_cleaner.output.tail_sol                     float64\n",
      "final.output.concentrate_sol                          float64\n",
      "rougher.output.tail_au                                float64\n",
      "rougher.output.recovery                               float64\n",
      "final.output.tail_au                                  float64\n",
      "rougher.output.concentrate_au                         float64\n",
      "primary_cleaner.output.tail_sol                       float64\n",
      "final.output.concentrate_au                           float64\n",
      "primary_cleaner.output.concentrate_au                 float64\n",
      "final.output.concentrate_ag                           float64\n",
      "rougher.output.tail_ag                                float64\n",
      "primary_cleaner.output.concentrate_ag                 float64\n",
      "rougher.calculation.au_pb_ratio                       float64\n",
      "final.output.tail_sol                                 float64\n",
      "rougher.output.concentrate_ag                         float64\n",
      "primary_cleaner.output.concentrate_pb                 float64\n",
      "rougher.output.concentrate_sol                        float64\n",
      "secondary_cleaner.output.tail_ag                      float64\n",
      "final.output.recovery                                 float64\n",
      "rougher.calculation.floatbank10_sulfate_to_au_feed    float64\n",
      "secondary_cleaner.output.tail_au                      float64\n",
      "primary_cleaner.output.concentrate_sol                float64\n",
      "final.output.tail_ag                                  float64\n",
      "rougher.output.tail_pb                                float64\n",
      "primary_cleaner.output.tail_pb                        float64\n",
      "rougher.calculation.floatbank11_sulfate_to_au_feed    float64\n",
      "dtype: object\n"
     ]
    }
   ],
   "source": [
    "\n",
    "# Identify columns present in the training set but missing from the test set\n",
    "train_columns = set(train.columns)\n",
    "test_columns = set(test.columns)\n",
    "\n",
    "# Find features that are in training but not in test set\n",
    "missing_in_test = train_columns - test_columns\n",
    "\n",
    "# Display the missing columns and their data types\n",
    "missing_feature_info= train[list(missing_in_test)].dtypes\n",
    "print(missing_feature_info)\n"
   ]
  },
  {
   "cell_type": "markdown",
   "metadata": {},
   "source": [
    "#### Perform data preprocessing\n",
    "\n",
    "Missing data is identified and is filled in with forward fill method for time stamped data for all data sets."
   ]
  },
  {
   "cell_type": "code",
   "execution_count": null,
   "metadata": {
    "trusted": true
   },
   "outputs": [
    {
     "name": "stdout",
     "output_type": "stream",
     "text": [
      "secondary_cleaner.output.tail_sol         1654\n",
      "rougher.state.floatbank10_e_air            438\n",
      "rougher.input.floatbank11_xanthate         434\n",
      "primary_cleaner.output.concentrate_sol     338\n",
      "final.output.concentrate_sol               232\n",
      "                                          ... \n",
      "rougher.output.tail_au                       0\n",
      "rougher.state.floatbank10_d_air              0\n",
      "rougher.state.floatbank10_d_level            0\n",
      "rougher.state.floatbank10_e_level            0\n",
      "calculated_recovery                          0\n",
      "Length: 87, dtype: int64\n",
      "rougher.input.floatbank11_xanthate            353\n",
      "primary_cleaner.input.sulfate                 302\n",
      "primary_cleaner.input.depressant              284\n",
      "rougher.input.floatbank10_sulfate             257\n",
      "primary_cleaner.input.xanthate                166\n",
      "rougher.input.floatbank10_xanthate            123\n",
      "rougher.input.feed_sol                         67\n",
      "rougher.input.floatbank11_sulfate              55\n",
      "rougher.input.feed_rate                        40\n",
      "secondary_cleaner.state.floatbank3_a_air       34\n",
      "secondary_cleaner.state.floatbank2_b_air       23\n",
      "rougher.input.feed_size                        22\n",
      "secondary_cleaner.state.floatbank2_a_air       20\n",
      "rougher.state.floatbank10_f_air                17\n",
      "rougher.state.floatbank10_e_air                17\n",
      "rougher.state.floatbank10_d_air                17\n",
      "rougher.state.floatbank10_b_air                17\n",
      "rougher.state.floatbank10_a_air                17\n",
      "rougher.state.floatbank10_c_air                17\n",
      "rougher.input.feed_au                          16\n",
      "rougher.input.feed_pb                          16\n",
      "secondary_cleaner.state.floatbank6_a_air       16\n",
      "secondary_cleaner.state.floatbank5_b_level     16\n",
      "secondary_cleaner.state.floatbank5_b_air       16\n",
      "secondary_cleaner.state.floatbank5_a_level     16\n",
      "secondary_cleaner.state.floatbank5_a_air       16\n",
      "secondary_cleaner.state.floatbank4_b_level     16\n",
      "secondary_cleaner.state.floatbank4_b_air       16\n",
      "secondary_cleaner.state.floatbank4_a_level     16\n",
      "secondary_cleaner.state.floatbank4_a_air       16\n",
      "secondary_cleaner.state.floatbank3_b_level     16\n",
      "secondary_cleaner.state.floatbank3_b_air       16\n",
      "secondary_cleaner.state.floatbank3_a_level     16\n",
      "secondary_cleaner.state.floatbank2_b_level     16\n",
      "primary_cleaner.state.floatbank8_a_air         16\n",
      "secondary_cleaner.state.floatbank2_a_level     16\n",
      "primary_cleaner.state.floatbank8_a_level       16\n",
      "rougher.state.floatbank10_f_level              16\n",
      "primary_cleaner.state.floatbank8_b_air         16\n",
      "rougher.state.floatbank10_e_level              16\n",
      "primary_cleaner.state.floatbank8_b_level       16\n",
      "rougher.state.floatbank10_d_level              16\n",
      "primary_cleaner.state.floatbank8_c_air         16\n",
      "rougher.state.floatbank10_c_level              16\n",
      "primary_cleaner.state.floatbank8_c_level       16\n",
      "rougher.state.floatbank10_b_level              16\n",
      "primary_cleaner.state.floatbank8_d_air         16\n",
      "rougher.state.floatbank10_a_level              16\n",
      "primary_cleaner.state.floatbank8_d_level       16\n",
      "rougher.input.feed_ag                          16\n",
      "secondary_cleaner.state.floatbank6_a_level     16\n",
      "primary_cleaner.input.feed_size                 0\n",
      "dtype: int64\n",
      "rougher.output.recovery                               3119\n",
      "rougher.output.tail_ag                                2737\n",
      "rougher.output.tail_sol                               2736\n",
      "rougher.output.tail_au                                2736\n",
      "rougher.input.floatbank11_xanthate                    2257\n",
      "                                                      ... \n",
      "rougher.calculation.floatbank10_sulfate_to_au_feed      44\n",
      "primary_cleaner.state.floatbank8_b_level                43\n",
      "primary_cleaner.state.floatbank8_c_level                43\n",
      "primary_cleaner.state.floatbank8_d_level                43\n",
      "primary_cleaner.input.feed_size                          0\n",
      "Length: 86, dtype: int64\n",
      "final.output.concentrate_ag                 0\n",
      "rougher.state.floatbank10_b_level           0\n",
      "rougher.state.floatbank10_f_level           0\n",
      "rougher.state.floatbank10_f_air             0\n",
      "rougher.state.floatbank10_e_level           0\n",
      "                                           ..\n",
      "primary_cleaner.state.floatbank8_d_air      0\n",
      "primary_cleaner.state.floatbank8_c_level    0\n",
      "primary_cleaner.state.floatbank8_c_air      0\n",
      "primary_cleaner.state.floatbank8_b_level    0\n",
      "calculated_recovery                         0\n",
      "Length: 87, dtype: int64\n",
      "primary_cleaner.input.sulfate                 0\n",
      "primary_cleaner.input.depressant              0\n",
      "rougher.state.floatbank10_d_air               0\n",
      "rougher.state.floatbank10_d_level             0\n",
      "rougher.state.floatbank10_e_air               0\n",
      "rougher.state.floatbank10_e_level             0\n",
      "rougher.state.floatbank10_f_air               0\n",
      "rougher.state.floatbank10_f_level             0\n",
      "secondary_cleaner.state.floatbank2_a_air      0\n",
      "secondary_cleaner.state.floatbank2_a_level    0\n",
      "secondary_cleaner.state.floatbank2_b_air      0\n",
      "secondary_cleaner.state.floatbank2_b_level    0\n",
      "secondary_cleaner.state.floatbank3_a_air      0\n",
      "secondary_cleaner.state.floatbank3_a_level    0\n",
      "secondary_cleaner.state.floatbank3_b_air      0\n",
      "secondary_cleaner.state.floatbank3_b_level    0\n",
      "secondary_cleaner.state.floatbank4_a_air      0\n",
      "secondary_cleaner.state.floatbank4_a_level    0\n",
      "secondary_cleaner.state.floatbank4_b_air      0\n",
      "secondary_cleaner.state.floatbank4_b_level    0\n",
      "secondary_cleaner.state.floatbank5_a_air      0\n",
      "secondary_cleaner.state.floatbank5_a_level    0\n",
      "secondary_cleaner.state.floatbank5_b_air      0\n",
      "secondary_cleaner.state.floatbank5_b_level    0\n",
      "secondary_cleaner.state.floatbank6_a_air      0\n",
      "rougher.state.floatbank10_c_level             0\n",
      "rougher.state.floatbank10_c_air               0\n",
      "rougher.state.floatbank10_b_level             0\n",
      "rougher.input.feed_ag                         0\n",
      "primary_cleaner.input.feed_size               0\n",
      "primary_cleaner.input.xanthate                0\n",
      "primary_cleaner.state.floatbank8_a_air        0\n",
      "primary_cleaner.state.floatbank8_a_level      0\n",
      "primary_cleaner.state.floatbank8_b_air        0\n",
      "primary_cleaner.state.floatbank8_b_level      0\n",
      "primary_cleaner.state.floatbank8_c_air        0\n",
      "primary_cleaner.state.floatbank8_c_level      0\n",
      "primary_cleaner.state.floatbank8_d_air        0\n",
      "primary_cleaner.state.floatbank8_d_level      0\n",
      "rougher.input.feed_pb                         0\n",
      "rougher.state.floatbank10_b_air               0\n",
      "rougher.input.feed_rate                       0\n",
      "rougher.input.feed_size                       0\n",
      "rougher.input.feed_sol                        0\n",
      "rougher.input.feed_au                         0\n",
      "rougher.input.floatbank10_sulfate             0\n",
      "rougher.input.floatbank10_xanthate            0\n",
      "rougher.input.floatbank11_sulfate             0\n",
      "rougher.input.floatbank11_xanthate            0\n",
      "rougher.state.floatbank10_a_air               0\n",
      "rougher.state.floatbank10_a_level             0\n",
      "secondary_cleaner.state.floatbank6_a_level    0\n",
      "dtype: int64\n",
      "final.output.concentrate_ag                   0\n",
      "rougher.state.floatbank10_b_air               0\n",
      "rougher.state.floatbank10_f_air               0\n",
      "rougher.state.floatbank10_e_level             0\n",
      "rougher.state.floatbank10_e_air               0\n",
      "                                             ..\n",
      "primary_cleaner.state.floatbank8_d_air        0\n",
      "primary_cleaner.state.floatbank8_c_level      0\n",
      "primary_cleaner.state.floatbank8_c_air        0\n",
      "primary_cleaner.state.floatbank8_b_level      0\n",
      "secondary_cleaner.state.floatbank6_a_level    0\n",
      "Length: 86, dtype: int64\n"
     ]
    }
   ],
   "source": [
    "# Check for missing values in test set and full set\n",
    "print(train.isna().sum().sort_values(ascending=False))\n",
    "print(test.isna().sum().sort_values(ascending=False))\n",
    "print(full.isna().sum().sort_values(ascending=False))\n",
    "\n",
    "# Fill missing values using median or forward fill for time dependent features\n",
    "\n",
    "train.fillna(method='ffill', inplace=True)\n",
    "test.fillna(method='ffill', inplace=True)\n",
    "full.fillna(method='ffill', inplace=True)\n",
    "\n",
    "#Verify missing values filled\n",
    "print(train.isna().sum().sort_values(ascending=False))\n",
    "print(test.isna().sum().sort_values(ascending=False))\n",
    "print(full.isna().sum().sort_values(ascending=False))\n",
    "\n"
   ]
  },
  {
   "cell_type": "markdown",
   "metadata": {},
   "source": [
    "### Analyze the data"
   ]
  },
  {
   "cell_type": "markdown",
   "metadata": {},
   "source": [
    "#### Analysis of  how the concentrations of gold (Au), silver (Ag), and lead (Pb) change throughout the purification process\n",
    "\n",
    "Expecting: \n",
    "\n",
    "Gold (Au) should increase as impurities are removed. Silver (Ag) may decrease due to extraction inefficiencies. Lead (Pb) should remain relatively stable but may vary based on extraction methods."
   ]
  },
  {
   "cell_type": "code",
   "execution_count": null,
   "metadata": {
    "trusted": true
   },
   "outputs": [
    {
     "data": {
      "image/png": "[encoded data removed]",
      "text/plain": [
       "<Figure size 1000x500 with 1 Axes>"
      ]
     },
     "metadata": {},
     "output_type": "display_data"
    }
   ],
   "source": [
    "# Selecting metals and stages of importance to analysis\n",
    "metal_columns = [\n",
    "    \"rougher.input.feed_au\", \"rougher.input.feed_ag\", \"rougher.input.feed_pb\",\n",
    "    \"rougher.output.concentrate_au\", \"rougher.output.concentrate_ag\", \"rougher.output.concentrate_pb\",\n",
    "    \"primary_cleaner.output.concentrate_au\", \"primary_cleaner.output.concentrate_ag\", \"primary_cleaner.output.concentrate_pb\",\n",
    "    \"final.output.concentrate_au\", \"final.output.concentrate_ag\", \"final.output.concentrate_pb\"\n",
    "]\n",
    "# Filter data to include only relevant columns\n",
    "metal_data = train[metal_columns]\n",
    "\n",
    "# Compute mean concentrations at each stage\n",
    "mean_concentrations = metal_data.mean()\n",
    "\n",
    "# Reshape data for visualization\n",
    "stages = [\"Feed\", \"Rougher\", \"Primary Cleaner\", \"Final\"]\n",
    "\n",
    "au_concentration = [mean_concentrations[\"rougher.input.feed_au\"], \n",
    "                    mean_concentrations[\"rougher.output.concentrate_au\"], \n",
    "                    mean_concentrations[\"primary_cleaner.output.concentrate_au\"],\n",
    "                    mean_concentrations[\"final.output.concentrate_au\"]]\n",
    "\n",
    "ag_concentration = [mean_concentrations[\"rougher.input.feed_ag\"], \n",
    "                    mean_concentrations[\"rougher.output.concentrate_ag\"], \n",
    "                    mean_concentrations[\"primary_cleaner.output.concentrate_ag\"], \n",
    "                    mean_concentrations[\"final.output.concentrate_ag\"]]\n",
    "\n",
    "pb_concentration = [mean_concentrations[\"rougher.input.feed_pb\"], \n",
    "                    mean_concentrations[\"rougher.output.concentrate_pb\"], \n",
    "                    mean_concentrations[\"primary_cleaner.output.concentrate_pb\"], \n",
    "                    mean_concentrations[\"final.output.concentrate_pb\"]]\n",
    "\n",
    "# Plot metal concentration changes\n",
    "x = np.arange(len(stages))\n",
    "width = 0.2\n",
    "\n",
    "plt.figure(figsize=(10, 5))\n",
    "plt.bar(x - width, au_concentration, width, label=\"Gold (Au)\")\n",
    "plt.bar(x, ag_concentration, width, label=\"Silver (Ag)\")\n",
    "plt.bar(x + width, pb_concentration, width, label=\"Lead (Pb)\")\n",
    "\n",
    "plt.xlabel(\"Processing Stage\")\n",
    "plt.ylabel(\"Mean Concentration (%)\")\n",
    "plt.title(\"Metal Concentration Changes Across Processing Stages\")\n",
    "plt.xticks(x, stages)\n",
    "plt.legend()\n",
    "plt.grid(True)\n",
    "plt.show()\n",
    "\n"
   ]
  },
  {
   "cell_type": "markdown",
   "metadata": {},
   "source": [
    "Key observations:\n",
    "\n",
    "Gold (Au) concentration increases significantly from the raw feed to the final concentrate, indicating successful extraction and purification. Silver (Ag) concentration decreases, suggesting it is removed or lost during processing. Lead (Pb) concentration remains relatively stable but shows a slight increase, likely due to its behavior in the refining process."
   ]
  },
  {
   "cell_type": "markdown",
   "metadata": {},
   "source": [
    "#### Compare the feed particle size distributions in the training set and in the test set"
   ]
  },
  {
   "cell_type": "code",
   "execution_count": null,
   "metadata": {
    "trusted": true
   },
   "outputs": [
    {
     "data": {
      "image/png": "[encoded data removed]",
      "text/plain": [
       "<Figure size 640x480 with 1 Axes>"
      ]
     },
     "metadata": {},
     "output_type": "display_data"
    }
   ],
   "source": [
    "# Extract feed particle size columns from train and test datasets\n",
    "train_feed_size = train['rougher.input.feed_size']\n",
    "test_feed_size = test['rougher.input.feed_size']\n",
    "\n",
    "# Plot distribution \n",
    "\n",
    "plt.Figure(figsize=(10,5))\n",
    "sns.kdeplot(train_feed_size, label=\"Train Feed Size\", fill=True, color='blue')\n",
    "sns.kdeplot(test_feed_size, label=\"Test Feed Size\", fill=True, color='red')\n",
    "\n",
    "plt.xlabel(\"Feed Particle Size\")\n",
    "plt.ylabel(\"Density\")\n",
    "plt.title(\"Comparison of Feed Particle Size Distributions\")\n",
    "plt.legend()\n",
    "plt.grid(True)\n",
    "plt.show()"
   ]
  },
  {
   "cell_type": "markdown",
   "metadata": {},
   "source": [
    "As shown in the kernel density estimate (KDE) plot, the feed particle size distributions appears similar, suggesting the model evaluation will most like be accurate."
   ]
  },
  {
   "cell_type": "markdown",
   "metadata": {},
   "source": [
    "<div class=\"alert alert-block alert-success\">\n",
    "<b>Reviewer's comment V1</b> <a class=\"tocSkip\"></a>\n",
    "\n",
    "Well done!\n",
    "  \n",
    "</div>"
   ]
  },
  {
   "cell_type": "markdown",
   "metadata": {},
   "source": [
    "#### Analysis of total concentrations of all substances at different stages: raw feed, rougher concentrate, and final concentrate. "
   ]
  },
  {
   "cell_type": "code",
   "execution_count": null,
   "metadata": {
    "trusted": true
   },
   "outputs": [
    {
     "data": {
      "image/png": "[encoded data removed]",
      "text/plain": [
       "<Figure size 640x480 with 1 Axes>"
      ]
     },
     "metadata": {},
     "output_type": "display_data"
    }
   ],
   "source": [
    "# Calculate total concentration at different stages\n",
    "\n",
    "train['total_feed'] = (train[\"rougher.input.feed_au\"] +\n",
    "                       train[\"rougher.input.feed_ag\"] + train[\"rougher.input.feed_pb\"])\n",
    "\n",
    "train[\"total_rougher\"] = (train[\"rougher.output.concentrate_au\"] +\n",
    "                          train[\"rougher.output.concentrate_ag\"] + train[\"rougher.output.concentrate_pb\"])\n",
    "\n",
    "train[\"total_final\"] = (train[\"final.output.concentrate_au\"] +\n",
    "                        train[\"final.output.concentrate_ag\"] + train[\"final.output.concentrate_pb\"])\n",
    "\n",
    "# Plot distribution\n",
    "plt.Figure(figsize=(10,5)),\n",
    "sns.kdeplot(train['total_feed'], label=\"Total Feed\", fill=True)\n",
    "sns.kdeplot(train['total_rougher'], label=\"Total Rougher\", fill=True)\n",
    "sns.kdeplot(train['total_final'], label=\"Total Final\", fill=True)\n",
    "\n",
    "plt.xlabel(\"Total Concentration\")\n",
    "plt.ylabel(\"Density\")\n",
    "plt.title(\"Distribution of Total Concentration at Different Stages\")\n",
    "plt.legend()\n",
    "plt.grid(True)\n",
    "plt.show()"
   ]
  },
  {
   "cell_type": "markdown",
   "metadata": {},
   "source": [
    "Expected trends is that the total concentration increases as the purification process progresses. If values that drastically deviate from this pattern, they may be anomalies.\n",
    "\n",
    "The distribution plot reveals some abnormal values, some samples have near-zero or very low total concentrations, especially in the raw feed stage.\n",
    "These could be data errors or error taking measurements, as such removing these values is recommended because unrealistically low concentrations may indicate measurement errors and  zero values can distort model training, leading to poor generalization."
   ]
  },
  {
   "cell_type": "code",
   "execution_count": null,
   "metadata": {
    "trusted": true
   },
   "outputs": [
    {
     "name": "stdout",
     "output_type": "stream",
     "text": [
      "Removed 781 rows with anomalies.\n"
     ]
    }
   ],
   "source": [
    "# Identify and remove anomalies: total concentration close to zero or extremely high\n",
    "threshold_low = 0.01  # Almost zero values are anomalies\n",
    "threshold_high = train[[\"total_feed\", \"total_rougher\", \"total_final\"]].quantile(0.99)  # Remove top 1% extreme values\n",
    "\n",
    "# Filter out anomalies\n",
    "train_cleaned = train[(train[\"total_feed\"] > threshold_low) & \n",
    "                      (train[\"total_rougher\"] > threshold_low) & \n",
    "                      (train[\"total_final\"] > threshold_low) & \n",
    "                      (train[\"total_feed\"] < threshold_high[\"total_feed\"]) & \n",
    "                      (train[\"total_rougher\"] < threshold_high[\"total_rougher\"]) & \n",
    "                      (train[\"total_final\"] < threshold_high[\"total_final\"])]\n",
    "\n",
    "# Display number of removed rows\n",
    "num_removed = len(train) - len(train_cleaned)\n",
    "print(f\"Removed {num_removed} rows with anomalies.\")"
   ]
  },
  {
   "cell_type": "markdown",
   "metadata": {},
   "source": [
    "### Build the model"
   ]
  },
  {
   "cell_type": "markdown",
   "metadata": {},
   "source": [
    "#### Sample forming"
   ]
  },
  {
   "cell_type": "code",
   "execution_count": null,
   "metadata": {
    "trusted": true
   },
   "outputs": [],
   "source": [
    "# Defining features \n",
    "features= test.columns.values\n",
    "# Defining targets \n",
    "targets = ['rougher.output.recovery', 'final.output.recovery']"
   ]
  },
  {
   "cell_type": "code",
   "execution_count": null,
   "metadata": {
    "trusted": true
   },
   "outputs": [],
   "source": [
    "feature_train= train[features].reset_index(drop=True)\n",
    "\n",
    "target_train = train[targets].reset_index(drop=True)\n",
    "target_train.columns = [0,1]\n"
   ]
  },
  {
   "cell_type": "code",
   "execution_count": null,
   "metadata": {
    "trusted": true
   },
   "outputs": [],
   "source": [
    "feature_test = test[features].reset_index(drop=True)\n",
    "\n",
    "target_test= full[targets].loc[test.index].reset_index(drop=True)\n",
    "target_test.columns = [0,1]"
   ]
  },
  {
   "cell_type": "markdown",
   "metadata": {},
   "source": [
    "#### Finding best model"
   ]
  },
  {
   "cell_type": "code",
   "execution_count": null,
   "metadata": {
    "trusted": true
   },
   "outputs": [],
   "source": [
    "# Function to calculate the sMAPE\n",
    "def smape(y_true, y_pred):\n",
    "    \"\"\"\n",
    "    Calculate the Symmetric Mean Absolute Percentage Error (sMAPE).\n",
    "\n",
    "    Parameters:\n",
    "        y_true (array-like): Taeget columns.\n",
    "        y_pred (array-like): Predicted values for the target columns.\n",
    "\n",
    "    Returns:\n",
    "        float: sMAPE value.\n",
    "    \"\"\"\n",
    "    numerator = np.abs(y_pred - y_true)\n",
    "    \n",
    "    denominator = (np.abs(y_true) + np.abs(y_pred)) / 2\n",
    "    \n",
    "    \n",
    "    return np.mean(numerator / denominator) * 100\n"
   ]
  },
  {
   "cell_type": "code",
   "execution_count": null,
   "metadata": {
    "trusted": true
   },
   "outputs": [],
   "source": [
    "def final_smape(y_true_rougher, y_pred_rougher, y_true_final, y_pred_final):\n",
    "    \"\"\"\n",
    "    Compute the final weighted sMAPE value.\n",
    "\n",
    "    Parameters:\n",
    "        y_true_rougher (array-like): Target rougher recovery values.\n",
    "        y_pred_rougher (array-like): Predicted rougher recovery values.\n",
    "        y_true_final (array-like): Target final recovery values.\n",
    "        y_pred_final (array-like): Predicted final recovery values.\n",
    "\n",
    "    Returns:\n",
    "        float: Weighted final sMAPE value.\n",
    "    \"\"\"\n",
    "    smape_rougher = smape(y_true_rougher, y_pred_rougher)\n",
    "    smape_final = smape(y_true_final, y_pred_final)\n",
    "    \n",
    "   \n",
    "    return (0.25 * smape_rougher + 0.75 * smape_final)  # Weighted average: 25% Rougher, 75% Final"
   ]
  },
  {
   "cell_type": "code",
   "execution_count": null,
   "metadata": {
    "trusted": true
   },
   "outputs": [],
   "source": [
    "# Define custom scoring metric for cross-validation\n",
    "\n",
    "smape_scorer = make_scorer(smape, greater_is_better=False)"
   ]
  },
  {
   "cell_type": "code",
   "execution_count": null,
   "metadata": {
    "trusted": true
   },
   "outputs": [],
   "source": [
    "# Define models\n",
    "models = {\n",
    "    \"Linear Regression\": LinearRegression(),\n",
    "    \"Random Forest\": RandomForestRegressor(n_estimators=100, random_state=42),\n",
    "    \"Gradient Boosting\": GradientBoostingRegressor(n_estimators=100, random_state=42),\n",
    "    \"XGBoost\": XGBRegressor(n_estimators=100, random_state=42)\n",
    "}"
   ]
  },
  {
   "cell_type": "code",
   "execution_count": null,
   "metadata": {
    "trusted": true
   },
   "outputs": [
    {
     "name": "stdout",
     "output_type": "stream",
     "text": [
      "Linear Regression: Final sMAPE = 12.878\n",
      "Random Forest: Final sMAPE = 12.304\n",
      "Gradient Boosting: Final sMAPE = 11.390\n",
      "XGBoost: Final sMAPE = 14.734\n"
     ]
    }
   ],
   "source": [
    "# Perform cross-validation and store results\n",
    "\n",
    "model_scores = {}\n",
    "\n",
    "for name, model in models.items():\n",
    "    smape_rougher = cross_val_score(model, feature_train, target_train[0], scoring=smape_scorer, cv=5)\n",
    "    smape_final = cross_val_score(model, feature_train, target_train[1], scoring=smape_scorer, cv=5)\n",
    "    \n",
    "    final_smape_score = 0.25 * np.mean(smape_rougher) + 0.75 * np.mean(smape_final)\n",
    "    model_scores[name] = final_smape_score\n",
    "    \n",
    "    print(f\"{name}: Final sMAPE = {-final_smape_score:.3f}\")"
   ]
  },
  {
   "cell_type": "markdown",
   "metadata": {},
   "source": [
    "The model with the lowest sMAPE score is selected as the best.\n",
    "\n",
    "Results show that Gradient Boosting (sMAPE = 11.390) performs best among the models you tested, followed by Random Forest (sMAPE = 12.304). Linear Regression performs slightly worse (sMAPE = 12.878), while XGBoost has the highest error (sMAPE = 14.734).\n"
   ]
  },
  {
   "cell_type": "markdown",
   "metadata": {},
   "source": [
    "#### Best Model Testing"
   ]
  },
  {
   "cell_type": "code",
   "execution_count": null,
   "metadata": {
    "trusted": true
   },
   "outputs": [
    {
     "name": "stdout",
     "output_type": "stream",
     "text": [
      "Gradient Boosting\n"
     ]
    }
   ],
   "source": [
    "# Check which model performed best\n",
    "best_model_name = min(model_scores)\n",
    "print(best_model_name)"
   ]
  },
  {
   "cell_type": "code",
   "execution_count": null,
   "metadata": {
    "trusted": true
   },
   "outputs": [
    {
     "name": "stdout",
     "output_type": "stream",
     "text": [
      "Fitting 2 folds for each of 1 candidates, totalling 2 fits\n",
      "Fitting 2 folds for each of 1 candidates, totalling 2 fits\n",
      "Best Model: Gradient Boosting\n",
      "Best Parameters for Rougher Recovery: {'alpha': 0.9, 'ccp_alpha': 0.0, 'criterion': 'friedman_mse', 'init': None, 'learning_rate': 0.12236203565420874, 'loss': 'ls', 'max_depth': 7, 'max_features': None, 'max_leaf_nodes': None, 'min_impurity_decrease': 0.0, 'min_impurity_split': None, 'min_samples_leaf': 1, 'min_samples_split': 2, 'min_weight_fraction_leaf': 0.0, 'n_estimators': 64, 'n_iter_no_change': None, 'random_state': 42, 'subsample': 0.892797576724562, 'tol': 0.0001, 'validation_fraction': 0.1, 'verbose': 0, 'warm_start': False}\n",
      "Best Parameters for Final Recovery: {'alpha': 0.9, 'ccp_alpha': 0.0, 'criterion': 'friedman_mse', 'init': None, 'learning_rate': 0.12236203565420874, 'loss': 'ls', 'max_depth': 7, 'max_features': None, 'max_leaf_nodes': None, 'min_impurity_decrease': 0.0, 'min_impurity_split': None, 'min_samples_leaf': 1, 'min_samples_split': 2, 'min_weight_fraction_leaf': 0.0, 'n_estimators': 64, 'n_iter_no_change': None, 'random_state': 42, 'subsample': 0.892797576724562, 'tol': 0.0001, 'validation_fraction': 0.1, 'verbose': 0, 'warm_start': False}\n",
      "Final sMAPE after Hyperparameter Tuning: 15.105\n"
     ]
    }
   ],
   "source": [
    "# Define hyperparameter search space for the best model\n",
    "\n",
    "if best_model_name == \"Random Forest\":\n",
    "    param_dist = {\n",
    "        \"n_estimators\": randint(50, 300),\n",
    "        \"max_depth\": [None, 10, 20, 30],\n",
    "        \"min_samples_split\": randint(2, 10),\n",
    "        \"min_samples_leaf\": randint(1, 5)\n",
    "    }\n",
    "    model = RandomForestRegressor(random_state=42)\n",
    "\n",
    "elif best_model_name == \"Gradient Boosting\":\n",
    "    param_dist = {\n",
    "        \"n_estimators\": randint(50, 300),\n",
    "        \"learning_rate\": uniform(0.01, 0.3),\n",
    "        \"max_depth\": randint(3, 10),\n",
    "        \"subsample\": uniform(0.6, 0.4)\n",
    "    }\n",
    "    model = GradientBoostingRegressor(random_state=42)\n",
    "\n",
    "elif best_model_name == \"XGBoost\":\n",
    "    param_dist = {\n",
    "        \"n_estimators\": randint(50, 300),\n",
    "        \"learning_rate\": uniform(0.01, 0.3),\n",
    "        \"max_depth\": randint(3, 10),\n",
    "        \"colsample_bytree\": uniform(0.6, 0.4),\n",
    "        \"subsample\": uniform(0.6, 0.4)\n",
    "    }\n",
    "    model = XGBRegressor(random_state=42)\n",
    "\n",
    "# Perform Randomized Search\n",
    "random_search = RandomizedSearchCV(model, param_dist, n_iter=20, cv=5,\n",
    "                                   scoring=smape_scorer,\n",
    "                                   random_state=42, n_jobs=-1, verbose=1)\n",
    "\n",
    "# Fit the best model separately for both targets\n",
    "random_search.fit(feature_train, target_train[0])\n",
    "best_rougher = random_search.best_estimator_\n",
    "\n",
    "random_search.fit(feature_train, target_train[1])\n",
    "best_final = random_search.best_estimator_\n",
    "\n",
    "# Predictions on test set\n",
    "y_pred_rougher = best_rougher.predict(feature_test)\n",
    "y_pred_final = best_final.predict(feature_test)\n",
    "\n",
    "# Compute final sMAPE\n",
    "final_smape_value = final_smape(target_test[0], y_pred_rougher, target_test[1], y_pred_final)\n",
    "\n",
    "# Print best parameters and final score\n",
    "print(f\"Best Model: {best_model_name}\")\n",
    "print(f\"Best Parameters for Rougher Recovery: {best_rougher.get_params()}\")\n",
    "print(f\"Best Parameters for Final Recovery: {best_final.get_params()}\")\n",
    "print(f\"Final sMAPE after Hyperparameter Tuning: {final_smape_value:.3f}\")"
   ]
  },
  {
   "cell_type": "markdown",
   "metadata": {},
   "source": [
    "#### Sanity Check: Comparing to a Constant Model\n",
    "\n",
    "A constant model always predicts the mean or median of the target variable. If our trained model does not significantly outperform this baseline, then it lacks predictive value."
   ]
  },
  {
   "cell_type": "code",
   "execution_count": null,
   "metadata": {
    "trusted": true
   },
   "outputs": [
    {
     "name": "stdout",
     "output_type": "stream",
     "text": [
      "Constant Model sMAPE: 12.642\n",
      "Best-Tuned Model sMAPE: 15.105\n",
      "The trained model does NOT significantly outperform the constant model! Consider revisiting feature selection or model choice.\n"
     ]
    }
   ],
   "source": [
    "# Constant model predictions (mean of training target)\n",
    "\n",
    "constant_rougher_pred = np.full_like(target_test[0], target_train[0].mean())\n",
    "constant_final_pred = np.full_like(target_test[1], target_test[1].mean())\n",
    "\n",
    "# Compute sMAPE for constant model\n",
    "constant_smape = final_smape(target_test[0], constant_rougher_pred, target_test[1], constant_final_pred)\n",
    "\n",
    "# Compute sMAPE for best-tuned model\n",
    "best_smape = final_smape(target_test[0], y_pred_rougher, target_test[1], y_pred_final)\n",
    "\n",
    "# Print results\n",
    "print(f\"Constant Model sMAPE: {constant_smape:.3f}\")\n",
    "print(f\"Best-Tuned Model sMAPE: {best_smape:.3f}\")\n",
    "\n",
    "# Compare performance\n",
    "if best_smape < constant_smape:\n",
    "    print(\"The trained model outperforms the constant model.\")\n",
    "else:\n",
    "    print(\"The trained model does NOT significantly outperform the constant model! Consider revisiting feature selection or model choice.\")"
   ]
  },
  {
   "cell_type": "markdown",
   "metadata": {},
   "source": [
    "# Conclusion\n",
    "\n",
    "The model performs better than a random baseline, but further refinements are needed to achieve significant predictive improvements for real-world deployment."
   ]
  }
 ],
 "metadata": {
  "ExecuteTimeLog": [
   {
    "duration": 1017,
    "start_time": "2025-02-21T10:30:25.673Z"
   },
   {
    "duration": 594,
    "start_time": "2025-02-21T10:30:26.744Z"
   },
   {
    "duration": 604,
    "start_time": "2025-02-21T10:30:30.007Z"
   },
   {
    "duration": 69,
    "start_time": "2025-02-21T10:30:31.292Z"
   },
   {
    "duration": 9,
    "start_time": "2025-02-21T10:30:31.583Z"
   },
   {
    "duration": 10,
    "start_time": "2025-02-21T10:30:31.732Z"
   },
   {
    "duration": 7,
    "start_time": "2025-02-21T10:30:32.299Z"
   },
   {
    "duration": 23,
    "start_time": "2025-02-21T10:30:32.850Z"
   },
   {
    "duration": 153,
    "start_time": "2025-02-21T10:30:33.403Z"
   },
   {
    "duration": 434,
    "start_time": "2025-02-21T10:30:34.276Z"
   },
   {
    "duration": 646,
    "start_time": "2025-02-21T10:30:35.006Z"
   },
   {
    "duration": 3,
    "start_time": "2025-02-21T10:30:36.830Z"
   },
   {
    "duration": 10,
    "start_time": "2025-02-21T10:30:36.949Z"
   },
   {
    "duration": 7,
    "start_time": "2025-02-21T10:30:37.090Z"
   },
   {
    "duration": 3,
    "start_time": "2025-02-21T10:30:48.382Z"
   },
   {
    "duration": 4,
    "start_time": "2025-02-21T10:31:09.785Z"
   },
   {
    "duration": 2813,
    "start_time": "2025-02-22T02:30:53.008Z"
   },
   {
    "duration": 655,
    "start_time": "2025-02-22T02:30:55.823Z"
   },
   {
    "duration": 79,
    "start_time": "2025-02-22T02:30:56.479Z"
   },
   {
    "duration": 11,
    "start_time": "2025-02-22T02:30:56.560Z"
   },
   {
    "duration": 36,
    "start_time": "2025-02-22T02:30:56.574Z"
   },
   {
    "duration": 7,
    "start_time": "2025-02-22T02:30:56.611Z"
   },
   {
    "duration": 22,
    "start_time": "2025-02-22T02:30:56.620Z"
   },
   {
    "duration": 8,
    "start_time": "2025-02-22T02:30:56.644Z"
   },
   {
    "duration": 0,
    "start_time": "2025-02-22T02:30:56.654Z"
   },
   {
    "duration": 0,
    "start_time": "2025-02-22T02:30:56.655Z"
   },
   {
    "duration": 0,
    "start_time": "2025-02-22T02:30:56.657Z"
   },
   {
    "duration": 0,
    "start_time": "2025-02-22T02:30:56.658Z"
   },
   {
    "duration": 0,
    "start_time": "2025-02-22T02:30:56.659Z"
   },
   {
    "duration": 0,
    "start_time": "2025-02-22T02:30:56.661Z"
   },
   {
    "duration": 0,
    "start_time": "2025-02-22T02:30:56.663Z"
   },
   {
    "duration": 0,
    "start_time": "2025-02-22T02:30:56.664Z"
   },
   {
    "duration": 0,
    "start_time": "2025-02-22T02:30:56.666Z"
   },
   {
    "duration": 0,
    "start_time": "2025-02-22T02:30:56.667Z"
   },
   {
    "duration": 0,
    "start_time": "2025-02-22T02:30:56.669Z"
   },
   {
    "duration": 7,
    "start_time": "2025-02-22T02:33:13.171Z"
   },
   {
    "duration": 161,
    "start_time": "2025-02-22T02:36:04.596Z"
   },
   {
    "duration": 324,
    "start_time": "2025-02-22T02:38:38.586Z"
   },
   {
    "duration": 154,
    "start_time": "2025-02-22T02:39:27.221Z"
   },
   {
    "duration": 136,
    "start_time": "2025-02-22T02:40:19.993Z"
   },
   {
    "duration": 722,
    "start_time": "2025-02-22T03:18:44.019Z"
   },
   {
    "duration": 600,
    "start_time": "2025-02-22T03:20:27.785Z"
   },
   {
    "duration": 12,
    "start_time": "2025-02-22T03:26:07.447Z"
   },
   {
    "duration": 159,
    "start_time": "2025-02-22T14:07:26.809Z"
   },
   {
    "duration": 2750,
    "start_time": "2025-02-22T14:07:46.299Z"
   },
   {
    "duration": 665,
    "start_time": "2025-02-22T14:07:49.051Z"
   },
   {
    "duration": 93,
    "start_time": "2025-02-22T14:07:49.718Z"
   },
   {
    "duration": 10,
    "start_time": "2025-02-22T14:07:49.813Z"
   },
   {
    "duration": 10,
    "start_time": "2025-02-22T14:07:49.825Z"
   },
   {
    "duration": 5,
    "start_time": "2025-02-22T14:07:49.837Z"
   },
   {
    "duration": 52,
    "start_time": "2025-02-22T14:07:49.844Z"
   },
   {
    "duration": 157,
    "start_time": "2025-02-22T14:07:49.898Z"
   },
   {
    "duration": 424,
    "start_time": "2025-02-22T14:07:50.057Z"
   },
   {
    "duration": 239,
    "start_time": "2025-02-22T14:07:50.487Z"
   },
   {
    "duration": 0,
    "start_time": "2025-02-22T14:07:50.727Z"
   },
   {
    "duration": 0,
    "start_time": "2025-02-22T14:07:50.728Z"
   },
   {
    "duration": 0,
    "start_time": "2025-02-22T14:07:50.729Z"
   },
   {
    "duration": 0,
    "start_time": "2025-02-22T14:07:50.730Z"
   },
   {
    "duration": 0,
    "start_time": "2025-02-22T14:07:50.731Z"
   },
   {
    "duration": 0,
    "start_time": "2025-02-22T14:07:50.732Z"
   },
   {
    "duration": 0,
    "start_time": "2025-02-22T14:07:50.733Z"
   },
   {
    "duration": 0,
    "start_time": "2025-02-22T14:07:50.734Z"
   },
   {
    "duration": 0,
    "start_time": "2025-02-22T14:07:50.735Z"
   },
   {
    "duration": 0,
    "start_time": "2025-02-22T14:07:50.736Z"
   },
   {
    "duration": 18,
    "start_time": "2025-02-22T14:08:28.414Z"
   },
   {
    "duration": 655,
    "start_time": "2025-02-22T14:10:03.676Z"
   },
   {
    "duration": 13,
    "start_time": "2025-02-22T14:10:13.217Z"
   },
   {
    "duration": 123,
    "start_time": "2025-02-22T21:08:55.687Z"
   },
   {
    "duration": 19,
    "start_time": "2025-02-22T21:36:13.170Z"
   },
   {
    "duration": 1062,
    "start_time": "2025-02-22T21:36:21.028Z"
   },
   {
    "duration": 524,
    "start_time": "2025-02-22T21:36:22.092Z"
   },
   {
    "duration": 83,
    "start_time": "2025-02-22T21:36:22.618Z"
   },
   {
    "duration": 11,
    "start_time": "2025-02-22T21:36:22.704Z"
   },
   {
    "duration": 10,
    "start_time": "2025-02-22T21:36:22.716Z"
   },
   {
    "duration": 7,
    "start_time": "2025-02-22T21:36:22.728Z"
   },
   {
    "duration": 49,
    "start_time": "2025-02-22T21:36:22.737Z"
   },
   {
    "duration": 164,
    "start_time": "2025-02-22T21:36:22.788Z"
   },
   {
    "duration": 434,
    "start_time": "2025-02-22T21:36:22.954Z"
   },
   {
    "duration": 623,
    "start_time": "2025-02-22T21:36:23.392Z"
   },
   {
    "duration": 13,
    "start_time": "2025-02-22T21:36:24.017Z"
   },
   {
    "duration": 3,
    "start_time": "2025-02-22T21:36:24.031Z"
   },
   {
    "duration": 8,
    "start_time": "2025-02-22T21:36:24.036Z"
   },
   {
    "duration": 7,
    "start_time": "2025-02-22T21:36:24.045Z"
   },
   {
    "duration": 5,
    "start_time": "2025-02-22T21:36:24.054Z"
   },
   {
    "duration": 2,
    "start_time": "2025-02-22T21:36:24.087Z"
   },
   {
    "duration": 3,
    "start_time": "2025-02-22T21:36:24.091Z"
   },
   {
    "duration": 1042,
    "start_time": "2025-02-22T21:39:58.887Z"
   },
   {
    "duration": 534,
    "start_time": "2025-02-22T21:39:59.931Z"
   },
   {
    "duration": 75,
    "start_time": "2025-02-22T21:40:00.467Z"
   },
   {
    "duration": 10,
    "start_time": "2025-02-22T21:40:00.544Z"
   },
   {
    "duration": 35,
    "start_time": "2025-02-22T21:40:00.556Z"
   },
   {
    "duration": 6,
    "start_time": "2025-02-22T21:40:00.593Z"
   },
   {
    "duration": 21,
    "start_time": "2025-02-22T21:40:00.601Z"
   },
   {
    "duration": 167,
    "start_time": "2025-02-22T21:40:00.624Z"
   },
   {
    "duration": 495,
    "start_time": "2025-02-22T21:40:00.793Z"
   },
   {
    "duration": 730,
    "start_time": "2025-02-22T21:40:01.292Z"
   },
   {
    "duration": 12,
    "start_time": "2025-02-22T21:40:02.024Z"
   },
   {
    "duration": 3,
    "start_time": "2025-02-22T21:40:02.038Z"
   },
   {
    "duration": 7,
    "start_time": "2025-02-22T21:40:02.043Z"
   },
   {
    "duration": 7,
    "start_time": "2025-02-22T21:40:02.051Z"
   },
   {
    "duration": 26,
    "start_time": "2025-02-22T21:40:02.061Z"
   },
   {
    "duration": 3,
    "start_time": "2025-02-22T21:40:02.089Z"
   },
   {
    "duration": 4,
    "start_time": "2025-02-22T21:40:02.093Z"
   },
   {
    "duration": 681356,
    "start_time": "2025-02-22T21:40:02.098Z"
   },
   {
    "duration": 0,
    "start_time": "2025-02-22T21:51:23.457Z"
   },
   {
    "duration": 1,
    "start_time": "2025-02-22T21:51:23.458Z"
   },
   {
    "duration": 0,
    "start_time": "2025-02-22T21:51:23.460Z"
   },
   {
    "duration": 0,
    "start_time": "2025-02-22T21:51:23.462Z"
   },
   {
    "duration": 0,
    "start_time": "2025-02-22T21:51:23.463Z"
   },
   {
    "duration": 0,
    "start_time": "2025-02-22T21:51:23.464Z"
   },
   {
    "duration": 0,
    "start_time": "2025-02-22T21:51:23.465Z"
   },
   {
    "duration": 0,
    "start_time": "2025-02-22T21:51:23.467Z"
   },
   {
    "duration": 0,
    "start_time": "2025-02-22T21:51:23.467Z"
   },
   {
    "duration": 1205,
    "start_time": "2025-02-22T21:51:29.894Z"
   },
   {
    "duration": 519,
    "start_time": "2025-02-22T21:51:31.102Z"
   },
   {
    "duration": 85,
    "start_time": "2025-02-22T21:51:31.623Z"
   },
   {
    "duration": 10,
    "start_time": "2025-02-22T21:51:31.710Z"
   },
   {
    "duration": 11,
    "start_time": "2025-02-22T21:51:31.722Z"
   },
   {
    "duration": 5,
    "start_time": "2025-02-22T21:51:31.735Z"
   },
   {
    "duration": 48,
    "start_time": "2025-02-22T21:51:31.742Z"
   },
   {
    "duration": 153,
    "start_time": "2025-02-22T21:51:31.791Z"
   },
   {
    "duration": 507,
    "start_time": "2025-02-22T21:51:31.946Z"
   },
   {
    "duration": 636,
    "start_time": "2025-02-22T21:51:32.455Z"
   },
   {
    "duration": 14,
    "start_time": "2025-02-22T21:51:33.093Z"
   },
   {
    "duration": 3,
    "start_time": "2025-02-22T21:51:33.109Z"
   },
   {
    "duration": 7,
    "start_time": "2025-02-22T21:51:33.113Z"
   },
   {
    "duration": 8,
    "start_time": "2025-02-22T21:51:33.124Z"
   },
   {
    "duration": 3,
    "start_time": "2025-02-22T21:51:33.134Z"
   },
   {
    "duration": 3,
    "start_time": "2025-02-22T21:51:33.139Z"
   },
   {
    "duration": 5,
    "start_time": "2025-02-22T21:51:33.144Z"
   },
   {
    "duration": 831151,
    "start_time": "2025-02-22T21:51:33.151Z"
   },
   {
    "duration": 3,
    "start_time": "2025-02-22T22:05:24.305Z"
   },
   {
    "duration": 3,
    "start_time": "2025-02-22T22:05:24.310Z"
   },
   {
    "duration": 259,
    "start_time": "2025-02-22T22:05:24.316Z"
   },
   {
    "duration": 0,
    "start_time": "2025-02-22T22:05:24.577Z"
   },
   {
    "duration": 0,
    "start_time": "2025-02-22T22:05:24.578Z"
   },
   {
    "duration": 16,
    "start_time": "2025-02-22T22:08:04.992Z"
   },
   {
    "duration": 91,
    "start_time": "2025-02-22T22:08:12.484Z"
   },
   {
    "duration": 14,
    "start_time": "2025-02-22T22:08:28.949Z"
   },
   {
    "duration": 13,
    "start_time": "2025-02-22T22:08:36.303Z"
   },
   {
    "duration": 2,
    "start_time": "2025-02-22T22:09:32.937Z"
   },
   {
    "duration": 3,
    "start_time": "2025-02-22T22:09:53.018Z"
   },
   {
    "duration": 449571,
    "start_time": "2025-02-22T22:10:05.256Z"
   },
   {
    "duration": 2,
    "start_time": "2025-02-22T22:17:34.830Z"
   },
   {
    "duration": 3,
    "start_time": "2025-02-22T22:19:55.081Z"
   },
   {
    "duration": 2,
    "start_time": "2025-02-22T22:22:46.132Z"
   },
   {
    "duration": 2,
    "start_time": "2025-02-22T22:22:50.149Z"
   },
   {
    "duration": 3,
    "start_time": "2025-02-22T22:23:07.296Z"
   },
   {
    "duration": 3,
    "start_time": "2025-02-22T22:33:03.488Z"
   },
   {
    "duration": 2,
    "start_time": "2025-02-22T22:33:07.016Z"
   },
   {
    "duration": 22,
    "start_time": "2025-02-22T22:34:28.921Z"
   },
   {
    "duration": 14,
    "start_time": "2025-02-22T22:35:23.145Z"
   },
   {
    "duration": 19,
    "start_time": "2025-02-22T22:35:26.412Z"
   },
   {
    "duration": 23,
    "start_time": "2025-02-22T22:36:12.456Z"
   },
   {
    "duration": 2675,
    "start_time": "2025-02-22T23:45:07.145Z"
   },
   {
    "duration": 865,
    "start_time": "2025-02-22T23:45:09.822Z"
   },
   {
    "duration": 70,
    "start_time": "2025-02-22T23:45:10.688Z"
   },
   {
    "duration": 34,
    "start_time": "2025-02-22T23:45:10.760Z"
   },
   {
    "duration": 10,
    "start_time": "2025-02-22T23:45:10.797Z"
   },
   {
    "duration": 6,
    "start_time": "2025-02-22T23:45:10.808Z"
   },
   {
    "duration": 22,
    "start_time": "2025-02-22T23:45:10.815Z"
   },
   {
    "duration": 174,
    "start_time": "2025-02-22T23:45:10.840Z"
   },
   {
    "duration": 473,
    "start_time": "2025-02-22T23:45:11.016Z"
   },
   {
    "duration": 622,
    "start_time": "2025-02-22T23:45:11.491Z"
   },
   {
    "duration": 13,
    "start_time": "2025-02-22T23:45:12.115Z"
   },
   {
    "duration": 3,
    "start_time": "2025-02-22T23:45:12.129Z"
   },
   {
    "duration": 6,
    "start_time": "2025-02-22T23:45:12.134Z"
   },
   {
    "duration": 6,
    "start_time": "2025-02-22T23:45:12.144Z"
   },
   {
    "duration": 4,
    "start_time": "2025-02-22T23:45:12.151Z"
   },
   {
    "duration": 32,
    "start_time": "2025-02-22T23:45:12.156Z"
   },
   {
    "duration": 3,
    "start_time": "2025-02-22T23:45:12.189Z"
   },
   {
    "duration": 3,
    "start_time": "2025-02-22T23:45:12.194Z"
   },
   {
    "duration": 156,
    "start_time": "2025-02-23T04:03:15.674Z"
   },
   {
    "duration": 2653,
    "start_time": "2025-02-23T04:09:30.064Z"
   },
   {
    "duration": 641,
    "start_time": "2025-02-23T04:09:32.719Z"
   },
   {
    "duration": 138,
    "start_time": "2025-02-23T04:09:33.362Z"
   },
   {
    "duration": 10,
    "start_time": "2025-02-23T04:09:33.502Z"
   },
   {
    "duration": 10,
    "start_time": "2025-02-23T04:09:33.514Z"
   },
   {
    "duration": 5,
    "start_time": "2025-02-23T04:09:33.526Z"
   },
   {
    "duration": 22,
    "start_time": "2025-02-23T04:09:33.532Z"
   },
   {
    "duration": 183,
    "start_time": "2025-02-23T04:09:33.557Z"
   },
   {
    "duration": 448,
    "start_time": "2025-02-23T04:09:33.741Z"
   },
   {
    "duration": 735,
    "start_time": "2025-02-23T04:09:34.190Z"
   },
   {
    "duration": 12,
    "start_time": "2025-02-23T04:09:34.927Z"
   },
   {
    "duration": 4,
    "start_time": "2025-02-23T04:09:34.941Z"
   },
   {
    "duration": 7,
    "start_time": "2025-02-23T04:09:34.947Z"
   },
   {
    "duration": 6,
    "start_time": "2025-02-23T04:09:34.958Z"
   },
   {
    "duration": 3,
    "start_time": "2025-02-23T04:09:34.987Z"
   },
   {
    "duration": 4,
    "start_time": "2025-02-23T04:09:34.991Z"
   },
   {
    "duration": 4,
    "start_time": "2025-02-23T04:09:34.996Z"
   },
   {
    "duration": 3,
    "start_time": "2025-02-23T04:09:35.001Z"
   },
   {
    "duration": 2739,
    "start_time": "2025-02-23T06:13:01.004Z"
   },
   {
    "duration": 643,
    "start_time": "2025-02-23T06:13:03.745Z"
   },
   {
    "duration": 86,
    "start_time": "2025-02-23T06:13:04.390Z"
   },
   {
    "duration": 11,
    "start_time": "2025-02-23T06:13:04.479Z"
   },
   {
    "duration": 10,
    "start_time": "2025-02-23T06:13:04.492Z"
   },
   {
    "duration": 6,
    "start_time": "2025-02-23T06:13:04.503Z"
   },
   {
    "duration": 23,
    "start_time": "2025-02-23T06:13:04.511Z"
   },
   {
    "duration": 178,
    "start_time": "2025-02-23T06:13:04.536Z"
   },
   {
    "duration": 557,
    "start_time": "2025-02-23T06:13:04.716Z"
   },
   {
    "duration": 621,
    "start_time": "2025-02-23T06:13:05.275Z"
   },
   {
    "duration": 13,
    "start_time": "2025-02-23T06:13:05.898Z"
   },
   {
    "duration": 3,
    "start_time": "2025-02-23T06:13:05.912Z"
   },
   {
    "duration": 7,
    "start_time": "2025-02-23T06:13:05.916Z"
   },
   {
    "duration": 7,
    "start_time": "2025-02-23T06:13:05.925Z"
   },
   {
    "duration": 3,
    "start_time": "2025-02-23T06:13:05.934Z"
   },
   {
    "duration": 33,
    "start_time": "2025-02-23T06:13:05.938Z"
   },
   {
    "duration": 3,
    "start_time": "2025-02-23T06:13:05.973Z"
   },
   {
    "duration": 3,
    "start_time": "2025-02-23T06:13:05.978Z"
   },
   {
    "duration": 1075,
    "start_time": "2025-02-23T06:27:04.871Z"
   },
   {
    "duration": 573,
    "start_time": "2025-02-23T06:27:05.948Z"
   },
   {
    "duration": 97,
    "start_time": "2025-02-23T06:27:06.523Z"
   },
   {
    "duration": 11,
    "start_time": "2025-02-23T06:27:06.622Z"
   },
   {
    "duration": 10,
    "start_time": "2025-02-23T06:27:06.636Z"
   },
   {
    "duration": 28,
    "start_time": "2025-02-23T06:27:06.648Z"
   },
   {
    "duration": 29,
    "start_time": "2025-02-23T06:27:06.678Z"
   },
   {
    "duration": 185,
    "start_time": "2025-02-23T06:27:06.710Z"
   },
   {
    "duration": 475,
    "start_time": "2025-02-23T06:27:06.898Z"
   },
   {
    "duration": 626,
    "start_time": "2025-02-23T06:27:07.378Z"
   },
   {
    "duration": 14,
    "start_time": "2025-02-23T06:27:08.006Z"
   },
   {
    "duration": 3,
    "start_time": "2025-02-23T06:27:08.022Z"
   },
   {
    "duration": 7,
    "start_time": "2025-02-23T06:27:08.027Z"
   },
   {
    "duration": 8,
    "start_time": "2025-02-23T06:27:08.037Z"
   },
   {
    "duration": 29,
    "start_time": "2025-02-23T06:27:08.047Z"
   },
   {
    "duration": 3,
    "start_time": "2025-02-23T06:27:08.078Z"
   },
   {
    "duration": 4,
    "start_time": "2025-02-23T06:27:08.083Z"
   },
   {
    "duration": 3,
    "start_time": "2025-02-23T06:27:08.090Z"
   },
   {
    "duration": 827901,
    "start_time": "2025-02-23T06:27:08.095Z"
   },
   {
    "duration": 3,
    "start_time": "2025-02-23T06:40:55.997Z"
   },
   {
    "duration": 2864,
    "start_time": "2025-02-23T09:59:41.670Z"
   },
   {
    "duration": 630,
    "start_time": "2025-02-23T09:59:44.536Z"
   },
   {
    "duration": 82,
    "start_time": "2025-02-23T09:59:45.167Z"
   },
   {
    "duration": 10,
    "start_time": "2025-02-23T09:59:45.251Z"
   },
   {
    "duration": 10,
    "start_time": "2025-02-23T09:59:45.263Z"
   },
   {
    "duration": 5,
    "start_time": "2025-02-23T09:59:45.275Z"
   },
   {
    "duration": 23,
    "start_time": "2025-02-23T09:59:45.306Z"
   },
   {
    "duration": 159,
    "start_time": "2025-02-23T09:59:45.332Z"
   },
   {
    "duration": 512,
    "start_time": "2025-02-23T09:59:45.493Z"
   },
   {
    "duration": 639,
    "start_time": "2025-02-23T09:59:46.008Z"
   },
   {
    "duration": 12,
    "start_time": "2025-02-23T09:59:46.649Z"
   },
   {
    "duration": 2,
    "start_time": "2025-02-23T09:59:46.663Z"
   },
   {
    "duration": 8,
    "start_time": "2025-02-23T09:59:46.667Z"
   },
   {
    "duration": 30,
    "start_time": "2025-02-23T09:59:46.676Z"
   },
   {
    "duration": 4,
    "start_time": "2025-02-23T09:59:46.707Z"
   },
   {
    "duration": 5,
    "start_time": "2025-02-23T09:59:46.712Z"
   },
   {
    "duration": 4,
    "start_time": "2025-02-23T09:59:46.718Z"
   },
   {
    "duration": 3,
    "start_time": "2025-02-23T09:59:46.724Z"
   },
   {
    "duration": 828501,
    "start_time": "2025-02-23T09:59:46.729Z"
   },
   {
    "duration": 3,
    "start_time": "2025-02-23T10:13:35.233Z"
   },
   {
    "duration": 313531,
    "start_time": "2025-02-23T10:13:35.238Z"
   },
   {
    "duration": 0,
    "start_time": "2025-02-23T10:18:48.772Z"
   },
   {
    "duration": 101026,
    "start_time": "2025-02-23T10:18:56.070Z"
   },
   {
    "duration": 8,
    "start_time": "2025-02-23T10:22:29.189Z"
   }
  ],
  "kernelspec": {
   "display_name": "Python 3 (ipykernel)",
   "language": "python",
   "name": "python3"
  },
  "language_info": {
   "codemirror_mode": {
    "name": "ipython",
    "version": 3
   },
   "file_extension": ".py",
   "mimetype": "text/x-python",
   "name": "python",
   "nbconvert_exporter": "python",
   "pygments_lexer": "ipython3",
   "version": "3.9.19"
  },
  "toc": {
   "base_numbering": 1,
   "nav_menu": {},
   "number_sections": true,
   "sideBar": true,
   "skip_h1_title": true,
   "title_cell": "Table of Contents",
   "title_sidebar": "Contents",
   "toc_cell": false,
   "toc_position": {},
   "toc_section_display": true,
   "toc_window_display": false
  }
 },
 "nbformat": 4,
 "nbformat_minor": 4
}
